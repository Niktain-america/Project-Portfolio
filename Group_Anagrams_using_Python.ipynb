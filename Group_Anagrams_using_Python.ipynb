{
  "nbformat": 4,
  "nbformat_minor": 0,
  "metadata": {
    "colab": {
      "provenance": [],
      "authorship_tag": "ABX9TyMoUluyw8DvGu5yQBcQTCob",
      "include_colab_link": true
    },
    "kernelspec": {
      "name": "python3",
      "display_name": "Python 3"
    },
    "language_info": {
      "name": "python"
    }
  },
  "cells": [
    {
      "cell_type": "markdown",
      "metadata": {
        "id": "view-in-github",
        "colab_type": "text"
      },
      "source": [
        "<a href=\"https://colab.research.google.com/github/Niktain-america/Project-Portfolio/blob/main/Group_Anagrams_using_Python.ipynb\" target=\"_parent\"><img src=\"https://colab.research.google.com/assets/colab-badge.svg\" alt=\"Open In Colab\"/></a>"
      ]
    },
    {
      "cell_type": "markdown",
      "source": [
        "# Group Anagrams using Python:"
      ],
      "metadata": {
        "id": "gRksUH4GplGC"
      }
    },
    {
      "cell_type": "code",
      "execution_count": 1,
      "metadata": {
        "id": "6tfSEU3Hpgps"
      },
      "outputs": [],
      "source": [
        "from collections import defaultdict\n",
        "\n",
        "def group_anagrams(a):\n",
        "  dfdict = defaultdict(list)\n",
        "\n",
        "  for i in a:\n",
        "    sorted_i = \" \".join(sorted(i))\n",
        "    dfdict[sorted_i].append(i)\n",
        "  return dfdict.values()"
      ]
    },
    {
      "cell_type": "code",
      "source": [
        "words = [\"tea\", \"eat\", \"bat\", \"ate\", \"arc\", \"car\"]\n",
        "print(group_anagrams(words))"
      ],
      "metadata": {
        "colab": {
          "base_uri": "https://localhost:8080/"
        },
        "id": "KLxL3ok5qFqA",
        "outputId": "053a0b2f-6803-4682-8752-88d005436d73"
      },
      "execution_count": 2,
      "outputs": [
        {
          "output_type": "stream",
          "name": "stdout",
          "text": [
            "dict_values([['tea', 'eat', 'ate'], ['bat'], ['arc', 'car']])\n"
          ]
        }
      ]
    },
    {
      "cell_type": "code",
      "source": [],
      "metadata": {
        "id": "8KNjt2ErqL3c"
      },
      "execution_count": null,
      "outputs": []
    }
  ]
}