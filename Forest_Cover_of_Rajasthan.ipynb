{
  "nbformat": 4,
  "nbformat_minor": 0,
  "metadata": {
    "colab": {
      "provenance": [],
      "mount_file_id": "1hVtywNxYHt52cxeaE4cBl-se28t3jRGC",
      "authorship_tag": "ABX9TyOanBomiKn4s7M47pHwGizn",
      "include_colab_link": true
    },
    "kernelspec": {
      "name": "python3",
      "display_name": "Python 3"
    },
    "language_info": {
      "name": "python"
    }
  },
  "cells": [
    {
      "cell_type": "markdown",
      "metadata": {
        "id": "view-in-github",
        "colab_type": "text"
      },
      "source": [
        "<a href=\"https://colab.research.google.com/github/Niktain-america/Project-Portfolio/blob/main/Forest_Cover_of_Rajasthan.ipynb\" target=\"_parent\"><img src=\"https://colab.research.google.com/assets/colab-badge.svg\" alt=\"Open In Colab\"/></a>"
      ]
    },
    {
      "cell_type": "markdown",
      "source": [
        "# Analysis of Forest Cover of Rajasthan(2021 Report)\n",
        "\n"
      ],
      "metadata": {
        "id": "Sjm_Ywd7TD5-"
      }
    },
    {
      "cell_type": "code",
      "execution_count": 1,
      "metadata": {
        "id": "alG2Hzx4SaQY"
      },
      "outputs": [],
      "source": [
        "import pandas as pd"
      ]
    },
    {
      "cell_type": "code",
      "source": [
        "df=pd.read_excel(\"/content/drive/MyDrive/Colab Notebooks/Rajasthan Forest Cover.xlsx\")\n",
        "df.head()"
      ],
      "metadata": {
        "colab": {
          "base_uri": "https://localhost:8080/",
          "height": 285
        },
        "id": "pnesWtHrTK9T",
        "outputId": "8122a91a-be37-4da8-bca4-9b8a1bc13b7b"
      },
      "execution_count": 2,
      "outputs": [
        {
          "output_type": "execute_result",
          "data": {
            "text/plain": [
              "   S.No.  District  Forest Block(Reserved Forest)  Area(Reserved Forest(Ha.))  \\\n",
              "0    1.0     Ajmer                             35                  19498.9569   \n",
              "1    2.0     Alwar                             58                 101078.1300   \n",
              "2    3.0  Banswara                              0                      0.0000   \n",
              "3    4.0     Baran                              0                      0.0000   \n",
              "4    5.0    Barmer                              1                   2029.5500   \n",
              "\n",
              "   Forest Block(Protected Forest)  Area(Protected Forest(Ha.))  \\\n",
              "0                             173                    42168.868   \n",
              "1                             318                    64118.480   \n",
              "2                             187                   100633.068   \n",
              "3                             194                   223302.670   \n",
              "4                             164                    56902.198   \n",
              "\n",
              "   Forest Block(Unclassified Forest)  Area(Unclassified Forest(Ha.))  \\\n",
              "0                                  6                        189.1220   \n",
              "1                                147                      13269.3700   \n",
              "2                                  3                         66.4400   \n",
              "3                                 34                       2039.7900   \n",
              "4                                 58                       3666.1352   \n",
              "\n",
              "   Forest Block(Total Forest Area)  Area(Total Forest Area (Ha.))  \n",
              "0                              214                     61856.9469  \n",
              "1                              523                    178465.9800  \n",
              "2                              190                    100699.5080  \n",
              "3                              228                    225342.4600  \n",
              "4                              223                     62597.8832  "
            ],
            "text/html": [
              "\n",
              "  <div id=\"df-6f155c41-1854-4f26-8080-c576d3383706\">\n",
              "    <div class=\"colab-df-container\">\n",
              "      <div>\n",
              "<style scoped>\n",
              "    .dataframe tbody tr th:only-of-type {\n",
              "        vertical-align: middle;\n",
              "    }\n",
              "\n",
              "    .dataframe tbody tr th {\n",
              "        vertical-align: top;\n",
              "    }\n",
              "\n",
              "    .dataframe thead th {\n",
              "        text-align: right;\n",
              "    }\n",
              "</style>\n",
              "<table border=\"1\" class=\"dataframe\">\n",
              "  <thead>\n",
              "    <tr style=\"text-align: right;\">\n",
              "      <th></th>\n",
              "      <th>S.No.</th>\n",
              "      <th>District</th>\n",
              "      <th>Forest Block(Reserved Forest)</th>\n",
              "      <th>Area(Reserved Forest(Ha.))</th>\n",
              "      <th>Forest Block(Protected Forest)</th>\n",
              "      <th>Area(Protected Forest(Ha.))</th>\n",
              "      <th>Forest Block(Unclassified Forest)</th>\n",
              "      <th>Area(Unclassified Forest(Ha.))</th>\n",
              "      <th>Forest Block(Total Forest Area)</th>\n",
              "      <th>Area(Total Forest Area (Ha.))</th>\n",
              "    </tr>\n",
              "  </thead>\n",
              "  <tbody>\n",
              "    <tr>\n",
              "      <th>0</th>\n",
              "      <td>1.0</td>\n",
              "      <td>Ajmer</td>\n",
              "      <td>35</td>\n",
              "      <td>19498.9569</td>\n",
              "      <td>173</td>\n",
              "      <td>42168.868</td>\n",
              "      <td>6</td>\n",
              "      <td>189.1220</td>\n",
              "      <td>214</td>\n",
              "      <td>61856.9469</td>\n",
              "    </tr>\n",
              "    <tr>\n",
              "      <th>1</th>\n",
              "      <td>2.0</td>\n",
              "      <td>Alwar</td>\n",
              "      <td>58</td>\n",
              "      <td>101078.1300</td>\n",
              "      <td>318</td>\n",
              "      <td>64118.480</td>\n",
              "      <td>147</td>\n",
              "      <td>13269.3700</td>\n",
              "      <td>523</td>\n",
              "      <td>178465.9800</td>\n",
              "    </tr>\n",
              "    <tr>\n",
              "      <th>2</th>\n",
              "      <td>3.0</td>\n",
              "      <td>Banswara</td>\n",
              "      <td>0</td>\n",
              "      <td>0.0000</td>\n",
              "      <td>187</td>\n",
              "      <td>100633.068</td>\n",
              "      <td>3</td>\n",
              "      <td>66.4400</td>\n",
              "      <td>190</td>\n",
              "      <td>100699.5080</td>\n",
              "    </tr>\n",
              "    <tr>\n",
              "      <th>3</th>\n",
              "      <td>4.0</td>\n",
              "      <td>Baran</td>\n",
              "      <td>0</td>\n",
              "      <td>0.0000</td>\n",
              "      <td>194</td>\n",
              "      <td>223302.670</td>\n",
              "      <td>34</td>\n",
              "      <td>2039.7900</td>\n",
              "      <td>228</td>\n",
              "      <td>225342.4600</td>\n",
              "    </tr>\n",
              "    <tr>\n",
              "      <th>4</th>\n",
              "      <td>5.0</td>\n",
              "      <td>Barmer</td>\n",
              "      <td>1</td>\n",
              "      <td>2029.5500</td>\n",
              "      <td>164</td>\n",
              "      <td>56902.198</td>\n",
              "      <td>58</td>\n",
              "      <td>3666.1352</td>\n",
              "      <td>223</td>\n",
              "      <td>62597.8832</td>\n",
              "    </tr>\n",
              "  </tbody>\n",
              "</table>\n",
              "</div>\n",
              "      <button class=\"colab-df-convert\" onclick=\"convertToInteractive('df-6f155c41-1854-4f26-8080-c576d3383706')\"\n",
              "              title=\"Convert this dataframe to an interactive table.\"\n",
              "              style=\"display:none;\">\n",
              "        \n",
              "  <svg xmlns=\"http://www.w3.org/2000/svg\" height=\"24px\"viewBox=\"0 0 24 24\"\n",
              "       width=\"24px\">\n",
              "    <path d=\"M0 0h24v24H0V0z\" fill=\"none\"/>\n",
              "    <path d=\"M18.56 5.44l.94 2.06.94-2.06 2.06-.94-2.06-.94-.94-2.06-.94 2.06-2.06.94zm-11 1L8.5 8.5l.94-2.06 2.06-.94-2.06-.94L8.5 2.5l-.94 2.06-2.06.94zm10 10l.94 2.06.94-2.06 2.06-.94-2.06-.94-.94-2.06-.94 2.06-2.06.94z\"/><path d=\"M17.41 7.96l-1.37-1.37c-.4-.4-.92-.59-1.43-.59-.52 0-1.04.2-1.43.59L10.3 9.45l-7.72 7.72c-.78.78-.78 2.05 0 2.83L4 21.41c.39.39.9.59 1.41.59.51 0 1.02-.2 1.41-.59l7.78-7.78 2.81-2.81c.8-.78.8-2.07 0-2.86zM5.41 20L4 18.59l7.72-7.72 1.47 1.35L5.41 20z\"/>\n",
              "  </svg>\n",
              "      </button>\n",
              "      \n",
              "  <style>\n",
              "    .colab-df-container {\n",
              "      display:flex;\n",
              "      flex-wrap:wrap;\n",
              "      gap: 12px;\n",
              "    }\n",
              "\n",
              "    .colab-df-convert {\n",
              "      background-color: #E8F0FE;\n",
              "      border: none;\n",
              "      border-radius: 50%;\n",
              "      cursor: pointer;\n",
              "      display: none;\n",
              "      fill: #1967D2;\n",
              "      height: 32px;\n",
              "      padding: 0 0 0 0;\n",
              "      width: 32px;\n",
              "    }\n",
              "\n",
              "    .colab-df-convert:hover {\n",
              "      background-color: #E2EBFA;\n",
              "      box-shadow: 0px 1px 2px rgba(60, 64, 67, 0.3), 0px 1px 3px 1px rgba(60, 64, 67, 0.15);\n",
              "      fill: #174EA6;\n",
              "    }\n",
              "\n",
              "    [theme=dark] .colab-df-convert {\n",
              "      background-color: #3B4455;\n",
              "      fill: #D2E3FC;\n",
              "    }\n",
              "\n",
              "    [theme=dark] .colab-df-convert:hover {\n",
              "      background-color: #434B5C;\n",
              "      box-shadow: 0px 1px 3px 1px rgba(0, 0, 0, 0.15);\n",
              "      filter: drop-shadow(0px 1px 2px rgba(0, 0, 0, 0.3));\n",
              "      fill: #FFFFFF;\n",
              "    }\n",
              "  </style>\n",
              "\n",
              "      <script>\n",
              "        const buttonEl =\n",
              "          document.querySelector('#df-6f155c41-1854-4f26-8080-c576d3383706 button.colab-df-convert');\n",
              "        buttonEl.style.display =\n",
              "          google.colab.kernel.accessAllowed ? 'block' : 'none';\n",
              "\n",
              "        async function convertToInteractive(key) {\n",
              "          const element = document.querySelector('#df-6f155c41-1854-4f26-8080-c576d3383706');\n",
              "          const dataTable =\n",
              "            await google.colab.kernel.invokeFunction('convertToInteractive',\n",
              "                                                     [key], {});\n",
              "          if (!dataTable) return;\n",
              "\n",
              "          const docLinkHtml = 'Like what you see? Visit the ' +\n",
              "            '<a target=\"_blank\" href=https://colab.research.google.com/notebooks/data_table.ipynb>data table notebook</a>'\n",
              "            + ' to learn more about interactive tables.';\n",
              "          element.innerHTML = '';\n",
              "          dataTable['output_type'] = 'display_data';\n",
              "          await google.colab.output.renderOutput(dataTable, element);\n",
              "          const docLink = document.createElement('div');\n",
              "          docLink.innerHTML = docLinkHtml;\n",
              "          element.appendChild(docLink);\n",
              "        }\n",
              "      </script>\n",
              "    </div>\n",
              "  </div>\n",
              "  "
            ]
          },
          "metadata": {},
          "execution_count": 2
        }
      ]
    },
    {
      "cell_type": "code",
      "source": [
        "df = df.drop('S.No.', axis=1)"
      ],
      "metadata": {
        "id": "eh6ukZYXdJgU"
      },
      "execution_count": 3,
      "outputs": []
    },
    {
      "cell_type": "code",
      "source": [
        "df.head()"
      ],
      "metadata": {
        "colab": {
          "base_uri": "https://localhost:8080/",
          "height": 285
        },
        "id": "-uECERbldTd9",
        "outputId": "a18df673-7a36-46b9-c15a-626b404639b3"
      },
      "execution_count": 4,
      "outputs": [
        {
          "output_type": "execute_result",
          "data": {
            "text/plain": [
              "   District  Forest Block(Reserved Forest)  Area(Reserved Forest(Ha.))  \\\n",
              "0     Ajmer                             35                  19498.9569   \n",
              "1     Alwar                             58                 101078.1300   \n",
              "2  Banswara                              0                      0.0000   \n",
              "3     Baran                              0                      0.0000   \n",
              "4    Barmer                              1                   2029.5500   \n",
              "\n",
              "   Forest Block(Protected Forest)  Area(Protected Forest(Ha.))  \\\n",
              "0                             173                    42168.868   \n",
              "1                             318                    64118.480   \n",
              "2                             187                   100633.068   \n",
              "3                             194                   223302.670   \n",
              "4                             164                    56902.198   \n",
              "\n",
              "   Forest Block(Unclassified Forest)  Area(Unclassified Forest(Ha.))  \\\n",
              "0                                  6                        189.1220   \n",
              "1                                147                      13269.3700   \n",
              "2                                  3                         66.4400   \n",
              "3                                 34                       2039.7900   \n",
              "4                                 58                       3666.1352   \n",
              "\n",
              "   Forest Block(Total Forest Area)  Area(Total Forest Area (Ha.))  \n",
              "0                              214                     61856.9469  \n",
              "1                              523                    178465.9800  \n",
              "2                              190                    100699.5080  \n",
              "3                              228                    225342.4600  \n",
              "4                              223                     62597.8832  "
            ],
            "text/html": [
              "\n",
              "  <div id=\"df-55d9b864-6af2-482d-98d4-9141c030b615\">\n",
              "    <div class=\"colab-df-container\">\n",
              "      <div>\n",
              "<style scoped>\n",
              "    .dataframe tbody tr th:only-of-type {\n",
              "        vertical-align: middle;\n",
              "    }\n",
              "\n",
              "    .dataframe tbody tr th {\n",
              "        vertical-align: top;\n",
              "    }\n",
              "\n",
              "    .dataframe thead th {\n",
              "        text-align: right;\n",
              "    }\n",
              "</style>\n",
              "<table border=\"1\" class=\"dataframe\">\n",
              "  <thead>\n",
              "    <tr style=\"text-align: right;\">\n",
              "      <th></th>\n",
              "      <th>District</th>\n",
              "      <th>Forest Block(Reserved Forest)</th>\n",
              "      <th>Area(Reserved Forest(Ha.))</th>\n",
              "      <th>Forest Block(Protected Forest)</th>\n",
              "      <th>Area(Protected Forest(Ha.))</th>\n",
              "      <th>Forest Block(Unclassified Forest)</th>\n",
              "      <th>Area(Unclassified Forest(Ha.))</th>\n",
              "      <th>Forest Block(Total Forest Area)</th>\n",
              "      <th>Area(Total Forest Area (Ha.))</th>\n",
              "    </tr>\n",
              "  </thead>\n",
              "  <tbody>\n",
              "    <tr>\n",
              "      <th>0</th>\n",
              "      <td>Ajmer</td>\n",
              "      <td>35</td>\n",
              "      <td>19498.9569</td>\n",
              "      <td>173</td>\n",
              "      <td>42168.868</td>\n",
              "      <td>6</td>\n",
              "      <td>189.1220</td>\n",
              "      <td>214</td>\n",
              "      <td>61856.9469</td>\n",
              "    </tr>\n",
              "    <tr>\n",
              "      <th>1</th>\n",
              "      <td>Alwar</td>\n",
              "      <td>58</td>\n",
              "      <td>101078.1300</td>\n",
              "      <td>318</td>\n",
              "      <td>64118.480</td>\n",
              "      <td>147</td>\n",
              "      <td>13269.3700</td>\n",
              "      <td>523</td>\n",
              "      <td>178465.9800</td>\n",
              "    </tr>\n",
              "    <tr>\n",
              "      <th>2</th>\n",
              "      <td>Banswara</td>\n",
              "      <td>0</td>\n",
              "      <td>0.0000</td>\n",
              "      <td>187</td>\n",
              "      <td>100633.068</td>\n",
              "      <td>3</td>\n",
              "      <td>66.4400</td>\n",
              "      <td>190</td>\n",
              "      <td>100699.5080</td>\n",
              "    </tr>\n",
              "    <tr>\n",
              "      <th>3</th>\n",
              "      <td>Baran</td>\n",
              "      <td>0</td>\n",
              "      <td>0.0000</td>\n",
              "      <td>194</td>\n",
              "      <td>223302.670</td>\n",
              "      <td>34</td>\n",
              "      <td>2039.7900</td>\n",
              "      <td>228</td>\n",
              "      <td>225342.4600</td>\n",
              "    </tr>\n",
              "    <tr>\n",
              "      <th>4</th>\n",
              "      <td>Barmer</td>\n",
              "      <td>1</td>\n",
              "      <td>2029.5500</td>\n",
              "      <td>164</td>\n",
              "      <td>56902.198</td>\n",
              "      <td>58</td>\n",
              "      <td>3666.1352</td>\n",
              "      <td>223</td>\n",
              "      <td>62597.8832</td>\n",
              "    </tr>\n",
              "  </tbody>\n",
              "</table>\n",
              "</div>\n",
              "      <button class=\"colab-df-convert\" onclick=\"convertToInteractive('df-55d9b864-6af2-482d-98d4-9141c030b615')\"\n",
              "              title=\"Convert this dataframe to an interactive table.\"\n",
              "              style=\"display:none;\">\n",
              "        \n",
              "  <svg xmlns=\"http://www.w3.org/2000/svg\" height=\"24px\"viewBox=\"0 0 24 24\"\n",
              "       width=\"24px\">\n",
              "    <path d=\"M0 0h24v24H0V0z\" fill=\"none\"/>\n",
              "    <path d=\"M18.56 5.44l.94 2.06.94-2.06 2.06-.94-2.06-.94-.94-2.06-.94 2.06-2.06.94zm-11 1L8.5 8.5l.94-2.06 2.06-.94-2.06-.94L8.5 2.5l-.94 2.06-2.06.94zm10 10l.94 2.06.94-2.06 2.06-.94-2.06-.94-.94-2.06-.94 2.06-2.06.94z\"/><path d=\"M17.41 7.96l-1.37-1.37c-.4-.4-.92-.59-1.43-.59-.52 0-1.04.2-1.43.59L10.3 9.45l-7.72 7.72c-.78.78-.78 2.05 0 2.83L4 21.41c.39.39.9.59 1.41.59.51 0 1.02-.2 1.41-.59l7.78-7.78 2.81-2.81c.8-.78.8-2.07 0-2.86zM5.41 20L4 18.59l7.72-7.72 1.47 1.35L5.41 20z\"/>\n",
              "  </svg>\n",
              "      </button>\n",
              "      \n",
              "  <style>\n",
              "    .colab-df-container {\n",
              "      display:flex;\n",
              "      flex-wrap:wrap;\n",
              "      gap: 12px;\n",
              "    }\n",
              "\n",
              "    .colab-df-convert {\n",
              "      background-color: #E8F0FE;\n",
              "      border: none;\n",
              "      border-radius: 50%;\n",
              "      cursor: pointer;\n",
              "      display: none;\n",
              "      fill: #1967D2;\n",
              "      height: 32px;\n",
              "      padding: 0 0 0 0;\n",
              "      width: 32px;\n",
              "    }\n",
              "\n",
              "    .colab-df-convert:hover {\n",
              "      background-color: #E2EBFA;\n",
              "      box-shadow: 0px 1px 2px rgba(60, 64, 67, 0.3), 0px 1px 3px 1px rgba(60, 64, 67, 0.15);\n",
              "      fill: #174EA6;\n",
              "    }\n",
              "\n",
              "    [theme=dark] .colab-df-convert {\n",
              "      background-color: #3B4455;\n",
              "      fill: #D2E3FC;\n",
              "    }\n",
              "\n",
              "    [theme=dark] .colab-df-convert:hover {\n",
              "      background-color: #434B5C;\n",
              "      box-shadow: 0px 1px 3px 1px rgba(0, 0, 0, 0.15);\n",
              "      filter: drop-shadow(0px 1px 2px rgba(0, 0, 0, 0.3));\n",
              "      fill: #FFFFFF;\n",
              "    }\n",
              "  </style>\n",
              "\n",
              "      <script>\n",
              "        const buttonEl =\n",
              "          document.querySelector('#df-55d9b864-6af2-482d-98d4-9141c030b615 button.colab-df-convert');\n",
              "        buttonEl.style.display =\n",
              "          google.colab.kernel.accessAllowed ? 'block' : 'none';\n",
              "\n",
              "        async function convertToInteractive(key) {\n",
              "          const element = document.querySelector('#df-55d9b864-6af2-482d-98d4-9141c030b615');\n",
              "          const dataTable =\n",
              "            await google.colab.kernel.invokeFunction('convertToInteractive',\n",
              "                                                     [key], {});\n",
              "          if (!dataTable) return;\n",
              "\n",
              "          const docLinkHtml = 'Like what you see? Visit the ' +\n",
              "            '<a target=\"_blank\" href=https://colab.research.google.com/notebooks/data_table.ipynb>data table notebook</a>'\n",
              "            + ' to learn more about interactive tables.';\n",
              "          element.innerHTML = '';\n",
              "          dataTable['output_type'] = 'display_data';\n",
              "          await google.colab.output.renderOutput(dataTable, element);\n",
              "          const docLink = document.createElement('div');\n",
              "          docLink.innerHTML = docLinkHtml;\n",
              "          element.appendChild(docLink);\n",
              "        }\n",
              "      </script>\n",
              "    </div>\n",
              "  </div>\n",
              "  "
            ]
          },
          "metadata": {},
          "execution_count": 4
        }
      ]
    },
    {
      "cell_type": "markdown",
      "source": [
        "There are 34 rows and 10 columns in the dataframe."
      ],
      "metadata": {
        "id": "c6HnL0f8TZMz"
      }
    },
    {
      "cell_type": "code",
      "source": [
        "df.shape"
      ],
      "metadata": {
        "colab": {
          "base_uri": "https://localhost:8080/"
        },
        "id": "PR2IvfRrTcV_",
        "outputId": "c2a70ca7-f6c9-4f18-f6c6-1777e963ff69"
      },
      "execution_count": 5,
      "outputs": [
        {
          "output_type": "execute_result",
          "data": {
            "text/plain": [
              "(34, 9)"
            ]
          },
          "metadata": {},
          "execution_count": 5
        }
      ]
    },
    {
      "cell_type": "markdown",
      "source": [
        "There is 1 OBJECT type(District), INT type(for Blocks) and FLOAT type for Areas of various forest."
      ],
      "metadata": {
        "id": "-7CUXxYzTkMk"
      }
    },
    {
      "cell_type": "code",
      "source": [
        "df.info()"
      ],
      "metadata": {
        "colab": {
          "base_uri": "https://localhost:8080/"
        },
        "id": "Zi4mx0UEWJZw",
        "outputId": "e83f1645-0823-4903-d653-2ceebec80534"
      },
      "execution_count": 6,
      "outputs": [
        {
          "output_type": "stream",
          "name": "stdout",
          "text": [
            "<class 'pandas.core.frame.DataFrame'>\n",
            "RangeIndex: 34 entries, 0 to 33\n",
            "Data columns (total 9 columns):\n",
            " #   Column                             Non-Null Count  Dtype  \n",
            "---  ------                             --------------  -----  \n",
            " 0   District                           34 non-null     object \n",
            " 1   Forest Block(Reserved Forest)      34 non-null     int64  \n",
            " 2   Area(Reserved Forest(Ha.))         34 non-null     float64\n",
            " 3   Forest Block(Protected Forest)     34 non-null     int64  \n",
            " 4   Area(Protected Forest(Ha.))        34 non-null     float64\n",
            " 5   Forest Block(Unclassified Forest)  34 non-null     int64  \n",
            " 6   Area(Unclassified Forest(Ha.))     34 non-null     float64\n",
            " 7   Forest Block(Total Forest Area)    34 non-null     int64  \n",
            " 8   Area(Total Forest Area (Ha.))      34 non-null     float64\n",
            "dtypes: float64(4), int64(4), object(1)\n",
            "memory usage: 2.5+ KB\n"
          ]
        }
      ]
    },
    {
      "cell_type": "code",
      "source": [
        "df.columns"
      ],
      "metadata": {
        "colab": {
          "base_uri": "https://localhost:8080/"
        },
        "id": "Jf1fHz16WPC3",
        "outputId": "45959657-6069-4e41-bc0a-131b809b8d98"
      },
      "execution_count": 7,
      "outputs": [
        {
          "output_type": "execute_result",
          "data": {
            "text/plain": [
              "Index(['District', 'Forest Block(Reserved Forest)',\n",
              "       'Area(Reserved Forest(Ha.))', 'Forest Block(Protected Forest)',\n",
              "       'Area(Protected Forest(Ha.))', 'Forest Block(Unclassified Forest)',\n",
              "       'Area(Unclassified Forest(Ha.))', 'Forest Block(Total Forest Area)',\n",
              "       'Area(Total Forest Area (Ha.))'],\n",
              "      dtype='object')"
            ]
          },
          "metadata": {},
          "execution_count": 7
        }
      ]
    },
    {
      "cell_type": "markdown",
      "source": [
        "Let's see which District has topped in Forest Cover?"
      ],
      "metadata": {
        "id": "xSfnPVIQX8-C"
      }
    },
    {
      "cell_type": "code",
      "source": [
        "df.max()"
      ],
      "metadata": {
        "colab": {
          "base_uri": "https://localhost:8080/"
        },
        "id": "xU4zP-VfX6Be",
        "outputId": "e1ec6524-45ee-41b4-db14-c1f6bf6558a2"
      },
      "execution_count": 8,
      "outputs": [
        {
          "output_type": "execute_result",
          "data": {
            "text/plain": [
              "District                                 Udaipur\n",
              "Forest Block(Reserved Forest)                919\n",
              "Area(Reserved Forest(Ha.))           1217623.547\n",
              "Forest Block(Protected Forest)              3499\n",
              "Area(Protected Forest(Ha.))          1856445.367\n",
              "Forest Block(Unclassified Forest)           2246\n",
              "Area(Unclassified Forest(Ha.))       212393.2515\n",
              "Forest Block(Total Forest Area)             6664\n",
              "Area(Total Forest Area (Ha.))        3286462.165\n",
              "dtype: object"
            ]
          },
          "metadata": {},
          "execution_count": 8
        }
      ]
    },
    {
      "cell_type": "markdown",
      "source": [
        "Let's see which District has least Forest Cover? "
      ],
      "metadata": {
        "id": "EAYc2Hk_YJur"
      }
    },
    {
      "cell_type": "code",
      "source": [
        "df.min()"
      ],
      "metadata": {
        "colab": {
          "base_uri": "https://localhost:8080/"
        },
        "id": "LLstX9qRYGpt",
        "outputId": "26e37a6d-a757-498c-de92-6372df98c265"
      },
      "execution_count": 9,
      "outputs": [
        {
          "output_type": "execute_result",
          "data": {
            "text/plain": [
              "District                               Ajmer\n",
              "Forest Block(Reserved Forest)              0\n",
              "Area(Reserved Forest(Ha.))               0.0\n",
              "Forest Block(Protected Forest)            12\n",
              "Area(Protected Forest(Ha.))          4857.71\n",
              "Forest Block(Unclassified Forest)          0\n",
              "Area(Unclassified Forest(Ha.))           0.0\n",
              "Forest Block(Total Forest Area)           37\n",
              "Area(Total Forest Area (Ha.))        7373.27\n",
              "dtype: object"
            ]
          },
          "metadata": {},
          "execution_count": 9
        }
      ]
    },
    {
      "cell_type": "markdown",
      "source": [
        "There are 34 Districts in the state of Rajasthan."
      ],
      "metadata": {
        "id": "zzouqHraUQE6"
      }
    },
    {
      "cell_type": "code",
      "source": [
        "df.District"
      ],
      "metadata": {
        "colab": {
          "base_uri": "https://localhost:8080/"
        },
        "id": "bTifBrgEWT-l",
        "outputId": "48bb8bd9-da3f-4117-bb9e-f9967ff38e40"
      },
      "execution_count": 10,
      "outputs": [
        {
          "output_type": "execute_result",
          "data": {
            "text/plain": [
              "0             Ajmer\n",
              "1             Alwar\n",
              "2          Banswara\n",
              "3             Baran\n",
              "4            Barmer\n",
              "5         Bharatpur\n",
              "6          Bhilwara\n",
              "7           Bikaner\n",
              "8             Bundi\n",
              "9      Chhittorgarh\n",
              "10            Churu\n",
              "11            Dausa\n",
              "12          Dholpur\n",
              "13        Dungarpur\n",
              "14      Hanumangarh\n",
              "15           Jaipur\n",
              "16        Jaisalmer\n",
              "17           Jalore\n",
              "18         Jhalawar\n",
              "19        Jhunjhunu\n",
              "20         Jhodhpur\n",
              "21           Karoli\n",
              "22             Kota\n",
              "23           Nagour\n",
              "24             Pali\n",
              "25       Pratapgarh\n",
              "26        Rajsamand\n",
              "27    Sawaimadhopur\n",
              "28            Sikar\n",
              "29           Sirohi\n",
              "30    Sriganganagar\n",
              "31             Tonk\n",
              "32          Udaipur\n",
              "33            Total\n",
              "Name: District, dtype: object"
            ]
          },
          "metadata": {},
          "execution_count": 10
        }
      ]
    },
    {
      "cell_type": "code",
      "source": [
        "df.District[0]"
      ],
      "metadata": {
        "colab": {
          "base_uri": "https://localhost:8080/",
          "height": 36
        },
        "id": "0dY2tehzWzYZ",
        "outputId": "57c667f0-620f-412b-95f0-15c9bc5badaf"
      },
      "execution_count": 11,
      "outputs": [
        {
          "output_type": "execute_result",
          "data": {
            "text/plain": [
              "'Ajmer'"
            ],
            "application/vnd.google.colaboratory.intrinsic+json": {
              "type": "string"
            }
          },
          "metadata": {},
          "execution_count": 11
        }
      ]
    },
    {
      "cell_type": "markdown",
      "source": [
        "Whole Information regarding the Ajmer District."
      ],
      "metadata": {
        "id": "N6xV8BDHUZB4"
      }
    },
    {
      "cell_type": "code",
      "source": [
        "df.iloc[0]"
      ],
      "metadata": {
        "colab": {
          "base_uri": "https://localhost:8080/"
        },
        "id": "D8rxeG_HW6RQ",
        "outputId": "b1711fcc-6d9b-4adc-ead8-2080bc187391"
      },
      "execution_count": 12,
      "outputs": [
        {
          "output_type": "execute_result",
          "data": {
            "text/plain": [
              "District                                  Ajmer\n",
              "Forest Block(Reserved Forest)                35\n",
              "Area(Reserved Forest(Ha.))           19498.9569\n",
              "Forest Block(Protected Forest)              173\n",
              "Area(Protected Forest(Ha.))           42168.868\n",
              "Forest Block(Unclassified Forest)             6\n",
              "Area(Unclassified Forest(Ha.))          189.122\n",
              "Forest Block(Total Forest Area)             214\n",
              "Area(Total Forest Area (Ha.))        61856.9469\n",
              "Name: 0, dtype: object"
            ]
          },
          "metadata": {},
          "execution_count": 12
        }
      ]
    },
    {
      "cell_type": "code",
      "source": [
        "df.iloc[:,1]"
      ],
      "metadata": {
        "colab": {
          "base_uri": "https://localhost:8080/"
        },
        "id": "GMv_91VxXE23",
        "outputId": "d295b2de-5156-4844-8ed8-aad9f09e5de3"
      },
      "execution_count": 13,
      "outputs": [
        {
          "output_type": "execute_result",
          "data": {
            "text/plain": [
              "0      35\n",
              "1      58\n",
              "2       0\n",
              "3       0\n",
              "4       1\n",
              "5       0\n",
              "6     105\n",
              "7       0\n",
              "8      41\n",
              "9     104\n",
              "10      1\n",
              "11     27\n",
              "12      1\n",
              "13     15\n",
              "14      0\n",
              "15     60\n",
              "16      0\n",
              "17      6\n",
              "18     31\n",
              "19      2\n",
              "20      2\n",
              "21      9\n",
              "22     34\n",
              "23      1\n",
              "24     52\n",
              "25     49\n",
              "26     29\n",
              "27     30\n",
              "28      8\n",
              "29     46\n",
              "30      0\n",
              "31      9\n",
              "32    163\n",
              "33    919\n",
              "Name: Forest Block(Reserved Forest), dtype: int64"
            ]
          },
          "metadata": {},
          "execution_count": 13
        }
      ]
    },
    {
      "cell_type": "code",
      "source": [
        "df.iloc[:3,1]"
      ],
      "metadata": {
        "colab": {
          "base_uri": "https://localhost:8080/"
        },
        "id": "U0AtL6YYXPTC",
        "outputId": "f6c06966-24d5-4cae-fb1b-4976e4fc9d8f"
      },
      "execution_count": 14,
      "outputs": [
        {
          "output_type": "execute_result",
          "data": {
            "text/plain": [
              "0    35\n",
              "1    58\n",
              "2     0\n",
              "Name: Forest Block(Reserved Forest), dtype: int64"
            ]
          },
          "metadata": {},
          "execution_count": 14
        }
      ]
    },
    {
      "cell_type": "markdown",
      "source": [
        "It list the last five rows of the dataset."
      ],
      "metadata": {
        "id": "kyo-dDkLUkw8"
      }
    },
    {
      "cell_type": "code",
      "source": [
        "df.iloc[-5:]"
      ],
      "metadata": {
        "colab": {
          "base_uri": "https://localhost:8080/",
          "height": 285
        },
        "id": "OSeM7oIMXaFy",
        "outputId": "2a8b1965-4149-489b-b01b-ec3eeb4d5e12"
      },
      "execution_count": 15,
      "outputs": [
        {
          "output_type": "execute_result",
          "data": {
            "text/plain": [
              "         District  Forest Block(Reserved Forest)  Area(Reserved Forest(Ha.))  \\\n",
              "29         Sirohi                             46                   61404.156   \n",
              "30  Sriganganagar                              0                       0.000   \n",
              "31           Tonk                              9                   10141.730   \n",
              "32        Udaipur                            163                  265406.080   \n",
              "33          Total                            919                 1217623.547   \n",
              "\n",
              "    Forest Block(Protected Forest)  Area(Protected Forest(Ha.))  \\\n",
              "29                              32                    98542.780   \n",
              "30                             184                    23841.669   \n",
              "31                              38                    22918.750   \n",
              "32                             225                   149464.859   \n",
              "33                            3499                  1856445.367   \n",
              "\n",
              "    Forest Block(Unclassified Forest)  Area(Unclassified Forest(Ha.))  \\\n",
              "29                                  6                       4260.9150   \n",
              "30                                378                      39502.4280   \n",
              "31                                  7                        297.4500   \n",
              "32                                 30                       1320.5733   \n",
              "33                               2246                     212393.2515   \n",
              "\n",
              "    Forest Block(Total Forest Area)  Area(Total Forest Area (Ha.))  \n",
              "29                               84                   1.642079e+05  \n",
              "30                              562                   6.334410e+04  \n",
              "31                               54                   3.335793e+04  \n",
              "32                              418                   4.161915e+05  \n",
              "33                             6664                   3.286462e+06  "
            ],
            "text/html": [
              "\n",
              "  <div id=\"df-dcfa95d8-fc29-4b47-972c-bc780cf10a49\">\n",
              "    <div class=\"colab-df-container\">\n",
              "      <div>\n",
              "<style scoped>\n",
              "    .dataframe tbody tr th:only-of-type {\n",
              "        vertical-align: middle;\n",
              "    }\n",
              "\n",
              "    .dataframe tbody tr th {\n",
              "        vertical-align: top;\n",
              "    }\n",
              "\n",
              "    .dataframe thead th {\n",
              "        text-align: right;\n",
              "    }\n",
              "</style>\n",
              "<table border=\"1\" class=\"dataframe\">\n",
              "  <thead>\n",
              "    <tr style=\"text-align: right;\">\n",
              "      <th></th>\n",
              "      <th>District</th>\n",
              "      <th>Forest Block(Reserved Forest)</th>\n",
              "      <th>Area(Reserved Forest(Ha.))</th>\n",
              "      <th>Forest Block(Protected Forest)</th>\n",
              "      <th>Area(Protected Forest(Ha.))</th>\n",
              "      <th>Forest Block(Unclassified Forest)</th>\n",
              "      <th>Area(Unclassified Forest(Ha.))</th>\n",
              "      <th>Forest Block(Total Forest Area)</th>\n",
              "      <th>Area(Total Forest Area (Ha.))</th>\n",
              "    </tr>\n",
              "  </thead>\n",
              "  <tbody>\n",
              "    <tr>\n",
              "      <th>29</th>\n",
              "      <td>Sirohi</td>\n",
              "      <td>46</td>\n",
              "      <td>61404.156</td>\n",
              "      <td>32</td>\n",
              "      <td>98542.780</td>\n",
              "      <td>6</td>\n",
              "      <td>4260.9150</td>\n",
              "      <td>84</td>\n",
              "      <td>1.642079e+05</td>\n",
              "    </tr>\n",
              "    <tr>\n",
              "      <th>30</th>\n",
              "      <td>Sriganganagar</td>\n",
              "      <td>0</td>\n",
              "      <td>0.000</td>\n",
              "      <td>184</td>\n",
              "      <td>23841.669</td>\n",
              "      <td>378</td>\n",
              "      <td>39502.4280</td>\n",
              "      <td>562</td>\n",
              "      <td>6.334410e+04</td>\n",
              "    </tr>\n",
              "    <tr>\n",
              "      <th>31</th>\n",
              "      <td>Tonk</td>\n",
              "      <td>9</td>\n",
              "      <td>10141.730</td>\n",
              "      <td>38</td>\n",
              "      <td>22918.750</td>\n",
              "      <td>7</td>\n",
              "      <td>297.4500</td>\n",
              "      <td>54</td>\n",
              "      <td>3.335793e+04</td>\n",
              "    </tr>\n",
              "    <tr>\n",
              "      <th>32</th>\n",
              "      <td>Udaipur</td>\n",
              "      <td>163</td>\n",
              "      <td>265406.080</td>\n",
              "      <td>225</td>\n",
              "      <td>149464.859</td>\n",
              "      <td>30</td>\n",
              "      <td>1320.5733</td>\n",
              "      <td>418</td>\n",
              "      <td>4.161915e+05</td>\n",
              "    </tr>\n",
              "    <tr>\n",
              "      <th>33</th>\n",
              "      <td>Total</td>\n",
              "      <td>919</td>\n",
              "      <td>1217623.547</td>\n",
              "      <td>3499</td>\n",
              "      <td>1856445.367</td>\n",
              "      <td>2246</td>\n",
              "      <td>212393.2515</td>\n",
              "      <td>6664</td>\n",
              "      <td>3.286462e+06</td>\n",
              "    </tr>\n",
              "  </tbody>\n",
              "</table>\n",
              "</div>\n",
              "      <button class=\"colab-df-convert\" onclick=\"convertToInteractive('df-dcfa95d8-fc29-4b47-972c-bc780cf10a49')\"\n",
              "              title=\"Convert this dataframe to an interactive table.\"\n",
              "              style=\"display:none;\">\n",
              "        \n",
              "  <svg xmlns=\"http://www.w3.org/2000/svg\" height=\"24px\"viewBox=\"0 0 24 24\"\n",
              "       width=\"24px\">\n",
              "    <path d=\"M0 0h24v24H0V0z\" fill=\"none\"/>\n",
              "    <path d=\"M18.56 5.44l.94 2.06.94-2.06 2.06-.94-2.06-.94-.94-2.06-.94 2.06-2.06.94zm-11 1L8.5 8.5l.94-2.06 2.06-.94-2.06-.94L8.5 2.5l-.94 2.06-2.06.94zm10 10l.94 2.06.94-2.06 2.06-.94-2.06-.94-.94-2.06-.94 2.06-2.06.94z\"/><path d=\"M17.41 7.96l-1.37-1.37c-.4-.4-.92-.59-1.43-.59-.52 0-1.04.2-1.43.59L10.3 9.45l-7.72 7.72c-.78.78-.78 2.05 0 2.83L4 21.41c.39.39.9.59 1.41.59.51 0 1.02-.2 1.41-.59l7.78-7.78 2.81-2.81c.8-.78.8-2.07 0-2.86zM5.41 20L4 18.59l7.72-7.72 1.47 1.35L5.41 20z\"/>\n",
              "  </svg>\n",
              "      </button>\n",
              "      \n",
              "  <style>\n",
              "    .colab-df-container {\n",
              "      display:flex;\n",
              "      flex-wrap:wrap;\n",
              "      gap: 12px;\n",
              "    }\n",
              "\n",
              "    .colab-df-convert {\n",
              "      background-color: #E8F0FE;\n",
              "      border: none;\n",
              "      border-radius: 50%;\n",
              "      cursor: pointer;\n",
              "      display: none;\n",
              "      fill: #1967D2;\n",
              "      height: 32px;\n",
              "      padding: 0 0 0 0;\n",
              "      width: 32px;\n",
              "    }\n",
              "\n",
              "    .colab-df-convert:hover {\n",
              "      background-color: #E2EBFA;\n",
              "      box-shadow: 0px 1px 2px rgba(60, 64, 67, 0.3), 0px 1px 3px 1px rgba(60, 64, 67, 0.15);\n",
              "      fill: #174EA6;\n",
              "    }\n",
              "\n",
              "    [theme=dark] .colab-df-convert {\n",
              "      background-color: #3B4455;\n",
              "      fill: #D2E3FC;\n",
              "    }\n",
              "\n",
              "    [theme=dark] .colab-df-convert:hover {\n",
              "      background-color: #434B5C;\n",
              "      box-shadow: 0px 1px 3px 1px rgba(0, 0, 0, 0.15);\n",
              "      filter: drop-shadow(0px 1px 2px rgba(0, 0, 0, 0.3));\n",
              "      fill: #FFFFFF;\n",
              "    }\n",
              "  </style>\n",
              "\n",
              "      <script>\n",
              "        const buttonEl =\n",
              "          document.querySelector('#df-dcfa95d8-fc29-4b47-972c-bc780cf10a49 button.colab-df-convert');\n",
              "        buttonEl.style.display =\n",
              "          google.colab.kernel.accessAllowed ? 'block' : 'none';\n",
              "\n",
              "        async function convertToInteractive(key) {\n",
              "          const element = document.querySelector('#df-dcfa95d8-fc29-4b47-972c-bc780cf10a49');\n",
              "          const dataTable =\n",
              "            await google.colab.kernel.invokeFunction('convertToInteractive',\n",
              "                                                     [key], {});\n",
              "          if (!dataTable) return;\n",
              "\n",
              "          const docLinkHtml = 'Like what you see? Visit the ' +\n",
              "            '<a target=\"_blank\" href=https://colab.research.google.com/notebooks/data_table.ipynb>data table notebook</a>'\n",
              "            + ' to learn more about interactive tables.';\n",
              "          element.innerHTML = '';\n",
              "          dataTable['output_type'] = 'display_data';\n",
              "          await google.colab.output.renderOutput(dataTable, element);\n",
              "          const docLink = document.createElement('div');\n",
              "          docLink.innerHTML = docLinkHtml;\n",
              "          element.appendChild(docLink);\n",
              "        }\n",
              "      </script>\n",
              "    </div>\n",
              "  </div>\n",
              "  "
            ]
          },
          "metadata": {},
          "execution_count": 15
        }
      ]
    },
    {
      "cell_type": "code",
      "source": [
        "df.loc[1,'District']"
      ],
      "metadata": {
        "colab": {
          "base_uri": "https://localhost:8080/",
          "height": 36
        },
        "id": "toLluBmdXkos",
        "outputId": "6af5f0c0-68a3-4dc8-82e9-f43dbad77d4e"
      },
      "execution_count": 16,
      "outputs": [
        {
          "output_type": "execute_result",
          "data": {
            "text/plain": [
              "'Alwar'"
            ],
            "application/vnd.google.colaboratory.intrinsic+json": {
              "type": "string"
            }
          },
          "metadata": {},
          "execution_count": 16
        }
      ]
    },
    {
      "cell_type": "markdown",
      "source": [
        "It returns the Forest Block of Total Forest of each Districts."
      ],
      "metadata": {
        "id": "FT5cufJyUwNd"
      }
    },
    {
      "cell_type": "code",
      "source": [
        "df.loc[:,['Forest Block(Total Forest Area)']]"
      ],
      "metadata": {
        "colab": {
          "base_uri": "https://localhost:8080/",
          "height": 1000
        },
        "id": "6nDSNTmsXuhH",
        "outputId": "8734fd41-dab6-4b34-f980-f3fff4f300a9"
      },
      "execution_count": 17,
      "outputs": [
        {
          "output_type": "execute_result",
          "data": {
            "text/plain": [
              "    Forest Block(Total Forest Area)\n",
              "0                               214\n",
              "1                               523\n",
              "2                               190\n",
              "3                               228\n",
              "4                               223\n",
              "5                                75\n",
              "6                               343\n",
              "7                              1103\n",
              "8                               171\n",
              "9                               200\n",
              "10                               48\n",
              "11                               52\n",
              "12                               37\n",
              "13                               91\n",
              "14                              258\n",
              "15                              119\n",
              "16                              115\n",
              "17                              101\n",
              "18                              295\n",
              "19                               39\n",
              "20                              158\n",
              "21                              118\n",
              "22                              216\n",
              "23                               97\n",
              "24                              116\n",
              "25                              132\n",
              "26                              125\n",
              "27                               52\n",
              "28                              107\n",
              "29                               84\n",
              "30                              562\n",
              "31                               54\n",
              "32                              418\n",
              "33                             6664"
            ],
            "text/html": [
              "\n",
              "  <div id=\"df-c7a93872-3e2c-4080-8a64-3a07ca4e671d\">\n",
              "    <div class=\"colab-df-container\">\n",
              "      <div>\n",
              "<style scoped>\n",
              "    .dataframe tbody tr th:only-of-type {\n",
              "        vertical-align: middle;\n",
              "    }\n",
              "\n",
              "    .dataframe tbody tr th {\n",
              "        vertical-align: top;\n",
              "    }\n",
              "\n",
              "    .dataframe thead th {\n",
              "        text-align: right;\n",
              "    }\n",
              "</style>\n",
              "<table border=\"1\" class=\"dataframe\">\n",
              "  <thead>\n",
              "    <tr style=\"text-align: right;\">\n",
              "      <th></th>\n",
              "      <th>Forest Block(Total Forest Area)</th>\n",
              "    </tr>\n",
              "  </thead>\n",
              "  <tbody>\n",
              "    <tr>\n",
              "      <th>0</th>\n",
              "      <td>214</td>\n",
              "    </tr>\n",
              "    <tr>\n",
              "      <th>1</th>\n",
              "      <td>523</td>\n",
              "    </tr>\n",
              "    <tr>\n",
              "      <th>2</th>\n",
              "      <td>190</td>\n",
              "    </tr>\n",
              "    <tr>\n",
              "      <th>3</th>\n",
              "      <td>228</td>\n",
              "    </tr>\n",
              "    <tr>\n",
              "      <th>4</th>\n",
              "      <td>223</td>\n",
              "    </tr>\n",
              "    <tr>\n",
              "      <th>5</th>\n",
              "      <td>75</td>\n",
              "    </tr>\n",
              "    <tr>\n",
              "      <th>6</th>\n",
              "      <td>343</td>\n",
              "    </tr>\n",
              "    <tr>\n",
              "      <th>7</th>\n",
              "      <td>1103</td>\n",
              "    </tr>\n",
              "    <tr>\n",
              "      <th>8</th>\n",
              "      <td>171</td>\n",
              "    </tr>\n",
              "    <tr>\n",
              "      <th>9</th>\n",
              "      <td>200</td>\n",
              "    </tr>\n",
              "    <tr>\n",
              "      <th>10</th>\n",
              "      <td>48</td>\n",
              "    </tr>\n",
              "    <tr>\n",
              "      <th>11</th>\n",
              "      <td>52</td>\n",
              "    </tr>\n",
              "    <tr>\n",
              "      <th>12</th>\n",
              "      <td>37</td>\n",
              "    </tr>\n",
              "    <tr>\n",
              "      <th>13</th>\n",
              "      <td>91</td>\n",
              "    </tr>\n",
              "    <tr>\n",
              "      <th>14</th>\n",
              "      <td>258</td>\n",
              "    </tr>\n",
              "    <tr>\n",
              "      <th>15</th>\n",
              "      <td>119</td>\n",
              "    </tr>\n",
              "    <tr>\n",
              "      <th>16</th>\n",
              "      <td>115</td>\n",
              "    </tr>\n",
              "    <tr>\n",
              "      <th>17</th>\n",
              "      <td>101</td>\n",
              "    </tr>\n",
              "    <tr>\n",
              "      <th>18</th>\n",
              "      <td>295</td>\n",
              "    </tr>\n",
              "    <tr>\n",
              "      <th>19</th>\n",
              "      <td>39</td>\n",
              "    </tr>\n",
              "    <tr>\n",
              "      <th>20</th>\n",
              "      <td>158</td>\n",
              "    </tr>\n",
              "    <tr>\n",
              "      <th>21</th>\n",
              "      <td>118</td>\n",
              "    </tr>\n",
              "    <tr>\n",
              "      <th>22</th>\n",
              "      <td>216</td>\n",
              "    </tr>\n",
              "    <tr>\n",
              "      <th>23</th>\n",
              "      <td>97</td>\n",
              "    </tr>\n",
              "    <tr>\n",
              "      <th>24</th>\n",
              "      <td>116</td>\n",
              "    </tr>\n",
              "    <tr>\n",
              "      <th>25</th>\n",
              "      <td>132</td>\n",
              "    </tr>\n",
              "    <tr>\n",
              "      <th>26</th>\n",
              "      <td>125</td>\n",
              "    </tr>\n",
              "    <tr>\n",
              "      <th>27</th>\n",
              "      <td>52</td>\n",
              "    </tr>\n",
              "    <tr>\n",
              "      <th>28</th>\n",
              "      <td>107</td>\n",
              "    </tr>\n",
              "    <tr>\n",
              "      <th>29</th>\n",
              "      <td>84</td>\n",
              "    </tr>\n",
              "    <tr>\n",
              "      <th>30</th>\n",
              "      <td>562</td>\n",
              "    </tr>\n",
              "    <tr>\n",
              "      <th>31</th>\n",
              "      <td>54</td>\n",
              "    </tr>\n",
              "    <tr>\n",
              "      <th>32</th>\n",
              "      <td>418</td>\n",
              "    </tr>\n",
              "    <tr>\n",
              "      <th>33</th>\n",
              "      <td>6664</td>\n",
              "    </tr>\n",
              "  </tbody>\n",
              "</table>\n",
              "</div>\n",
              "      <button class=\"colab-df-convert\" onclick=\"convertToInteractive('df-c7a93872-3e2c-4080-8a64-3a07ca4e671d')\"\n",
              "              title=\"Convert this dataframe to an interactive table.\"\n",
              "              style=\"display:none;\">\n",
              "        \n",
              "  <svg xmlns=\"http://www.w3.org/2000/svg\" height=\"24px\"viewBox=\"0 0 24 24\"\n",
              "       width=\"24px\">\n",
              "    <path d=\"M0 0h24v24H0V0z\" fill=\"none\"/>\n",
              "    <path d=\"M18.56 5.44l.94 2.06.94-2.06 2.06-.94-2.06-.94-.94-2.06-.94 2.06-2.06.94zm-11 1L8.5 8.5l.94-2.06 2.06-.94-2.06-.94L8.5 2.5l-.94 2.06-2.06.94zm10 10l.94 2.06.94-2.06 2.06-.94-2.06-.94-.94-2.06-.94 2.06-2.06.94z\"/><path d=\"M17.41 7.96l-1.37-1.37c-.4-.4-.92-.59-1.43-.59-.52 0-1.04.2-1.43.59L10.3 9.45l-7.72 7.72c-.78.78-.78 2.05 0 2.83L4 21.41c.39.39.9.59 1.41.59.51 0 1.02-.2 1.41-.59l7.78-7.78 2.81-2.81c.8-.78.8-2.07 0-2.86zM5.41 20L4 18.59l7.72-7.72 1.47 1.35L5.41 20z\"/>\n",
              "  </svg>\n",
              "      </button>\n",
              "      \n",
              "  <style>\n",
              "    .colab-df-container {\n",
              "      display:flex;\n",
              "      flex-wrap:wrap;\n",
              "      gap: 12px;\n",
              "    }\n",
              "\n",
              "    .colab-df-convert {\n",
              "      background-color: #E8F0FE;\n",
              "      border: none;\n",
              "      border-radius: 50%;\n",
              "      cursor: pointer;\n",
              "      display: none;\n",
              "      fill: #1967D2;\n",
              "      height: 32px;\n",
              "      padding: 0 0 0 0;\n",
              "      width: 32px;\n",
              "    }\n",
              "\n",
              "    .colab-df-convert:hover {\n",
              "      background-color: #E2EBFA;\n",
              "      box-shadow: 0px 1px 2px rgba(60, 64, 67, 0.3), 0px 1px 3px 1px rgba(60, 64, 67, 0.15);\n",
              "      fill: #174EA6;\n",
              "    }\n",
              "\n",
              "    [theme=dark] .colab-df-convert {\n",
              "      background-color: #3B4455;\n",
              "      fill: #D2E3FC;\n",
              "    }\n",
              "\n",
              "    [theme=dark] .colab-df-convert:hover {\n",
              "      background-color: #434B5C;\n",
              "      box-shadow: 0px 1px 3px 1px rgba(0, 0, 0, 0.15);\n",
              "      filter: drop-shadow(0px 1px 2px rgba(0, 0, 0, 0.3));\n",
              "      fill: #FFFFFF;\n",
              "    }\n",
              "  </style>\n",
              "\n",
              "      <script>\n",
              "        const buttonEl =\n",
              "          document.querySelector('#df-c7a93872-3e2c-4080-8a64-3a07ca4e671d button.colab-df-convert');\n",
              "        buttonEl.style.display =\n",
              "          google.colab.kernel.accessAllowed ? 'block' : 'none';\n",
              "\n",
              "        async function convertToInteractive(key) {\n",
              "          const element = document.querySelector('#df-c7a93872-3e2c-4080-8a64-3a07ca4e671d');\n",
              "          const dataTable =\n",
              "            await google.colab.kernel.invokeFunction('convertToInteractive',\n",
              "                                                     [key], {});\n",
              "          if (!dataTable) return;\n",
              "\n",
              "          const docLinkHtml = 'Like what you see? Visit the ' +\n",
              "            '<a target=\"_blank\" href=https://colab.research.google.com/notebooks/data_table.ipynb>data table notebook</a>'\n",
              "            + ' to learn more about interactive tables.';\n",
              "          element.innerHTML = '';\n",
              "          dataTable['output_type'] = 'display_data';\n",
              "          await google.colab.output.renderOutput(dataTable, element);\n",
              "          const docLink = document.createElement('div');\n",
              "          docLink.innerHTML = docLinkHtml;\n",
              "          element.appendChild(docLink);\n",
              "        }\n",
              "      </script>\n",
              "    </div>\n",
              "  </div>\n",
              "  "
            ]
          },
          "metadata": {},
          "execution_count": 17
        }
      ]
    },
    {
      "cell_type": "markdown",
      "source": [
        "This is my favourite place. Let's find out where Kota is?"
      ],
      "metadata": {
        "id": "xfno1aYcVIp_"
      }
    },
    {
      "cell_type": "code",
      "source": [
        "df.District=='Kota'"
      ],
      "metadata": {
        "colab": {
          "base_uri": "https://localhost:8080/"
        },
        "id": "d5Hx58doYcVU",
        "outputId": "cf5300b5-ec6c-43c2-bc39-deaeb9020acb"
      },
      "execution_count": 18,
      "outputs": [
        {
          "output_type": "execute_result",
          "data": {
            "text/plain": [
              "0     False\n",
              "1     False\n",
              "2     False\n",
              "3     False\n",
              "4     False\n",
              "5     False\n",
              "6     False\n",
              "7     False\n",
              "8     False\n",
              "9     False\n",
              "10    False\n",
              "11    False\n",
              "12    False\n",
              "13    False\n",
              "14    False\n",
              "15    False\n",
              "16    False\n",
              "17    False\n",
              "18    False\n",
              "19    False\n",
              "20    False\n",
              "21    False\n",
              "22     True\n",
              "23    False\n",
              "24    False\n",
              "25    False\n",
              "26    False\n",
              "27    False\n",
              "28    False\n",
              "29    False\n",
              "30    False\n",
              "31    False\n",
              "32    False\n",
              "33    False\n",
              "Name: District, dtype: bool"
            ]
          },
          "metadata": {},
          "execution_count": 18
        }
      ]
    },
    {
      "cell_type": "markdown",
      "source": [
        "Let's see what is condition of Forest in Kota?"
      ],
      "metadata": {
        "id": "Yr7fMqjzVR4g"
      }
    },
    {
      "cell_type": "code",
      "source": [
        "df.loc[df.District=='Kota']"
      ],
      "metadata": {
        "colab": {
          "base_uri": "https://localhost:8080/",
          "height": 159
        },
        "id": "HVe3MBgkYp4D",
        "outputId": "30a2e9ee-4f2a-4184-bdd0-2b358f46573b"
      },
      "execution_count": 19,
      "outputs": [
        {
          "output_type": "execute_result",
          "data": {
            "text/plain": [
              "   District  Forest Block(Reserved Forest)  Area(Reserved Forest(Ha.))  \\\n",
              "22     Kota                             34                   83762.985   \n",
              "\n",
              "    Forest Block(Protected Forest)  Area(Protected Forest(Ha.))  \\\n",
              "22                             158                    45257.968   \n",
              "\n",
              "    Forest Block(Unclassified Forest)  Area(Unclassified Forest(Ha.))  \\\n",
              "22                                 24                        7737.734   \n",
              "\n",
              "    Forest Block(Total Forest Area)  Area(Total Forest Area (Ha.))  \n",
              "22                              216                     136758.687  "
            ],
            "text/html": [
              "\n",
              "  <div id=\"df-e9065590-cf21-4e8a-a621-5e3a3197e07c\">\n",
              "    <div class=\"colab-df-container\">\n",
              "      <div>\n",
              "<style scoped>\n",
              "    .dataframe tbody tr th:only-of-type {\n",
              "        vertical-align: middle;\n",
              "    }\n",
              "\n",
              "    .dataframe tbody tr th {\n",
              "        vertical-align: top;\n",
              "    }\n",
              "\n",
              "    .dataframe thead th {\n",
              "        text-align: right;\n",
              "    }\n",
              "</style>\n",
              "<table border=\"1\" class=\"dataframe\">\n",
              "  <thead>\n",
              "    <tr style=\"text-align: right;\">\n",
              "      <th></th>\n",
              "      <th>District</th>\n",
              "      <th>Forest Block(Reserved Forest)</th>\n",
              "      <th>Area(Reserved Forest(Ha.))</th>\n",
              "      <th>Forest Block(Protected Forest)</th>\n",
              "      <th>Area(Protected Forest(Ha.))</th>\n",
              "      <th>Forest Block(Unclassified Forest)</th>\n",
              "      <th>Area(Unclassified Forest(Ha.))</th>\n",
              "      <th>Forest Block(Total Forest Area)</th>\n",
              "      <th>Area(Total Forest Area (Ha.))</th>\n",
              "    </tr>\n",
              "  </thead>\n",
              "  <tbody>\n",
              "    <tr>\n",
              "      <th>22</th>\n",
              "      <td>Kota</td>\n",
              "      <td>34</td>\n",
              "      <td>83762.985</td>\n",
              "      <td>158</td>\n",
              "      <td>45257.968</td>\n",
              "      <td>24</td>\n",
              "      <td>7737.734</td>\n",
              "      <td>216</td>\n",
              "      <td>136758.687</td>\n",
              "    </tr>\n",
              "  </tbody>\n",
              "</table>\n",
              "</div>\n",
              "      <button class=\"colab-df-convert\" onclick=\"convertToInteractive('df-e9065590-cf21-4e8a-a621-5e3a3197e07c')\"\n",
              "              title=\"Convert this dataframe to an interactive table.\"\n",
              "              style=\"display:none;\">\n",
              "        \n",
              "  <svg xmlns=\"http://www.w3.org/2000/svg\" height=\"24px\"viewBox=\"0 0 24 24\"\n",
              "       width=\"24px\">\n",
              "    <path d=\"M0 0h24v24H0V0z\" fill=\"none\"/>\n",
              "    <path d=\"M18.56 5.44l.94 2.06.94-2.06 2.06-.94-2.06-.94-.94-2.06-.94 2.06-2.06.94zm-11 1L8.5 8.5l.94-2.06 2.06-.94-2.06-.94L8.5 2.5l-.94 2.06-2.06.94zm10 10l.94 2.06.94-2.06 2.06-.94-2.06-.94-.94-2.06-.94 2.06-2.06.94z\"/><path d=\"M17.41 7.96l-1.37-1.37c-.4-.4-.92-.59-1.43-.59-.52 0-1.04.2-1.43.59L10.3 9.45l-7.72 7.72c-.78.78-.78 2.05 0 2.83L4 21.41c.39.39.9.59 1.41.59.51 0 1.02-.2 1.41-.59l7.78-7.78 2.81-2.81c.8-.78.8-2.07 0-2.86zM5.41 20L4 18.59l7.72-7.72 1.47 1.35L5.41 20z\"/>\n",
              "  </svg>\n",
              "      </button>\n",
              "      \n",
              "  <style>\n",
              "    .colab-df-container {\n",
              "      display:flex;\n",
              "      flex-wrap:wrap;\n",
              "      gap: 12px;\n",
              "    }\n",
              "\n",
              "    .colab-df-convert {\n",
              "      background-color: #E8F0FE;\n",
              "      border: none;\n",
              "      border-radius: 50%;\n",
              "      cursor: pointer;\n",
              "      display: none;\n",
              "      fill: #1967D2;\n",
              "      height: 32px;\n",
              "      padding: 0 0 0 0;\n",
              "      width: 32px;\n",
              "    }\n",
              "\n",
              "    .colab-df-convert:hover {\n",
              "      background-color: #E2EBFA;\n",
              "      box-shadow: 0px 1px 2px rgba(60, 64, 67, 0.3), 0px 1px 3px 1px rgba(60, 64, 67, 0.15);\n",
              "      fill: #174EA6;\n",
              "    }\n",
              "\n",
              "    [theme=dark] .colab-df-convert {\n",
              "      background-color: #3B4455;\n",
              "      fill: #D2E3FC;\n",
              "    }\n",
              "\n",
              "    [theme=dark] .colab-df-convert:hover {\n",
              "      background-color: #434B5C;\n",
              "      box-shadow: 0px 1px 3px 1px rgba(0, 0, 0, 0.15);\n",
              "      filter: drop-shadow(0px 1px 2px rgba(0, 0, 0, 0.3));\n",
              "      fill: #FFFFFF;\n",
              "    }\n",
              "  </style>\n",
              "\n",
              "      <script>\n",
              "        const buttonEl =\n",
              "          document.querySelector('#df-e9065590-cf21-4e8a-a621-5e3a3197e07c button.colab-df-convert');\n",
              "        buttonEl.style.display =\n",
              "          google.colab.kernel.accessAllowed ? 'block' : 'none';\n",
              "\n",
              "        async function convertToInteractive(key) {\n",
              "          const element = document.querySelector('#df-e9065590-cf21-4e8a-a621-5e3a3197e07c');\n",
              "          const dataTable =\n",
              "            await google.colab.kernel.invokeFunction('convertToInteractive',\n",
              "                                                     [key], {});\n",
              "          if (!dataTable) return;\n",
              "\n",
              "          const docLinkHtml = 'Like what you see? Visit the ' +\n",
              "            '<a target=\"_blank\" href=https://colab.research.google.com/notebooks/data_table.ipynb>data table notebook</a>'\n",
              "            + ' to learn more about interactive tables.';\n",
              "          element.innerHTML = '';\n",
              "          dataTable['output_type'] = 'display_data';\n",
              "          await google.colab.output.renderOutput(dataTable, element);\n",
              "          const docLink = document.createElement('div');\n",
              "          docLink.innerHTML = docLinkHtml;\n",
              "          element.appendChild(docLink);\n",
              "        }\n",
              "      </script>\n",
              "    </div>\n",
              "  </div>\n",
              "  "
            ]
          },
          "metadata": {},
          "execution_count": 19
        }
      ]
    },
    {
      "cell_type": "markdown",
      "source": [
        "To check the null values."
      ],
      "metadata": {
        "id": "n7ZIpfNcVZ_7"
      }
    },
    {
      "cell_type": "code",
      "source": [
        "df.isnull().sum()"
      ],
      "metadata": {
        "colab": {
          "base_uri": "https://localhost:8080/"
        },
        "id": "Uf4faP0JY9DL",
        "outputId": "c93f38ff-b0a7-4436-fc64-3f6d03995bb0"
      },
      "execution_count": 20,
      "outputs": [
        {
          "output_type": "execute_result",
          "data": {
            "text/plain": [
              "District                             0\n",
              "Forest Block(Reserved Forest)        0\n",
              "Area(Reserved Forest(Ha.))           0\n",
              "Forest Block(Protected Forest)       0\n",
              "Area(Protected Forest(Ha.))          0\n",
              "Forest Block(Unclassified Forest)    0\n",
              "Area(Unclassified Forest(Ha.))       0\n",
              "Forest Block(Total Forest Area)      0\n",
              "Area(Total Forest Area (Ha.))        0\n",
              "dtype: int64"
            ]
          },
          "metadata": {},
          "execution_count": 20
        }
      ]
    },
    {
      "cell_type": "markdown",
      "source": [
        "To rename the column."
      ],
      "metadata": {
        "id": "hoZoxjb8Vgji"
      }
    },
    {
      "cell_type": "code",
      "source": [
        "df.rename(columns = {'Area(Total Forest Area (Ha.))':'Total Forest Area'},inplace = True)\n",
        "   "
      ],
      "metadata": {
        "id": "GzS91FaDUhzJ"
      },
      "execution_count": 21,
      "outputs": []
    },
    {
      "cell_type": "code",
      "source": [
        "df.columns"
      ],
      "metadata": {
        "colab": {
          "base_uri": "https://localhost:8080/"
        },
        "id": "tyUXB44iVEip",
        "outputId": "36a6346d-2889-45ac-aff8-308ecfe762d1"
      },
      "execution_count": 22,
      "outputs": [
        {
          "output_type": "execute_result",
          "data": {
            "text/plain": [
              "Index(['District', 'Forest Block(Reserved Forest)',\n",
              "       'Area(Reserved Forest(Ha.))', 'Forest Block(Protected Forest)',\n",
              "       'Area(Protected Forest(Ha.))', 'Forest Block(Unclassified Forest)',\n",
              "       'Area(Unclassified Forest(Ha.))', 'Forest Block(Total Forest Area)',\n",
              "       'Total Forest Area'],\n",
              "      dtype='object')"
            ]
          },
          "metadata": {},
          "execution_count": 22
        }
      ]
    },
    {
      "cell_type": "markdown",
      "source": [
        "Create another Dataframe comprising  District and Area(Protected Forest(Ha.) and Total Forest Area. "
      ],
      "metadata": {
        "id": "STvTQvCJVoSj"
      }
    },
    {
      "cell_type": "code",
      "source": [
        "df_1=df[['District','Area(Protected Forest(Ha.))', 'Total Forest Area']]\n",
        "df_1.head()"
      ],
      "metadata": {
        "colab": {
          "base_uri": "https://localhost:8080/",
          "height": 206
        },
        "id": "ODhpQ7ieWHhT",
        "outputId": "29b8ebc6-fafc-449c-9bd3-1b6f5424e521"
      },
      "execution_count": 23,
      "outputs": [
        {
          "output_type": "execute_result",
          "data": {
            "text/plain": [
              "   District  Area(Protected Forest(Ha.))  Total Forest Area\n",
              "0     Ajmer                    42168.868         61856.9469\n",
              "1     Alwar                    64118.480        178465.9800\n",
              "2  Banswara                   100633.068        100699.5080\n",
              "3     Baran                   223302.670        225342.4600\n",
              "4    Barmer                    56902.198         62597.8832"
            ],
            "text/html": [
              "\n",
              "  <div id=\"df-f80f0794-792c-4488-81e5-4625cf68041a\">\n",
              "    <div class=\"colab-df-container\">\n",
              "      <div>\n",
              "<style scoped>\n",
              "    .dataframe tbody tr th:only-of-type {\n",
              "        vertical-align: middle;\n",
              "    }\n",
              "\n",
              "    .dataframe tbody tr th {\n",
              "        vertical-align: top;\n",
              "    }\n",
              "\n",
              "    .dataframe thead th {\n",
              "        text-align: right;\n",
              "    }\n",
              "</style>\n",
              "<table border=\"1\" class=\"dataframe\">\n",
              "  <thead>\n",
              "    <tr style=\"text-align: right;\">\n",
              "      <th></th>\n",
              "      <th>District</th>\n",
              "      <th>Area(Protected Forest(Ha.))</th>\n",
              "      <th>Total Forest Area</th>\n",
              "    </tr>\n",
              "  </thead>\n",
              "  <tbody>\n",
              "    <tr>\n",
              "      <th>0</th>\n",
              "      <td>Ajmer</td>\n",
              "      <td>42168.868</td>\n",
              "      <td>61856.9469</td>\n",
              "    </tr>\n",
              "    <tr>\n",
              "      <th>1</th>\n",
              "      <td>Alwar</td>\n",
              "      <td>64118.480</td>\n",
              "      <td>178465.9800</td>\n",
              "    </tr>\n",
              "    <tr>\n",
              "      <th>2</th>\n",
              "      <td>Banswara</td>\n",
              "      <td>100633.068</td>\n",
              "      <td>100699.5080</td>\n",
              "    </tr>\n",
              "    <tr>\n",
              "      <th>3</th>\n",
              "      <td>Baran</td>\n",
              "      <td>223302.670</td>\n",
              "      <td>225342.4600</td>\n",
              "    </tr>\n",
              "    <tr>\n",
              "      <th>4</th>\n",
              "      <td>Barmer</td>\n",
              "      <td>56902.198</td>\n",
              "      <td>62597.8832</td>\n",
              "    </tr>\n",
              "  </tbody>\n",
              "</table>\n",
              "</div>\n",
              "      <button class=\"colab-df-convert\" onclick=\"convertToInteractive('df-f80f0794-792c-4488-81e5-4625cf68041a')\"\n",
              "              title=\"Convert this dataframe to an interactive table.\"\n",
              "              style=\"display:none;\">\n",
              "        \n",
              "  <svg xmlns=\"http://www.w3.org/2000/svg\" height=\"24px\"viewBox=\"0 0 24 24\"\n",
              "       width=\"24px\">\n",
              "    <path d=\"M0 0h24v24H0V0z\" fill=\"none\"/>\n",
              "    <path d=\"M18.56 5.44l.94 2.06.94-2.06 2.06-.94-2.06-.94-.94-2.06-.94 2.06-2.06.94zm-11 1L8.5 8.5l.94-2.06 2.06-.94-2.06-.94L8.5 2.5l-.94 2.06-2.06.94zm10 10l.94 2.06.94-2.06 2.06-.94-2.06-.94-.94-2.06-.94 2.06-2.06.94z\"/><path d=\"M17.41 7.96l-1.37-1.37c-.4-.4-.92-.59-1.43-.59-.52 0-1.04.2-1.43.59L10.3 9.45l-7.72 7.72c-.78.78-.78 2.05 0 2.83L4 21.41c.39.39.9.59 1.41.59.51 0 1.02-.2 1.41-.59l7.78-7.78 2.81-2.81c.8-.78.8-2.07 0-2.86zM5.41 20L4 18.59l7.72-7.72 1.47 1.35L5.41 20z\"/>\n",
              "  </svg>\n",
              "      </button>\n",
              "      \n",
              "  <style>\n",
              "    .colab-df-container {\n",
              "      display:flex;\n",
              "      flex-wrap:wrap;\n",
              "      gap: 12px;\n",
              "    }\n",
              "\n",
              "    .colab-df-convert {\n",
              "      background-color: #E8F0FE;\n",
              "      border: none;\n",
              "      border-radius: 50%;\n",
              "      cursor: pointer;\n",
              "      display: none;\n",
              "      fill: #1967D2;\n",
              "      height: 32px;\n",
              "      padding: 0 0 0 0;\n",
              "      width: 32px;\n",
              "    }\n",
              "\n",
              "    .colab-df-convert:hover {\n",
              "      background-color: #E2EBFA;\n",
              "      box-shadow: 0px 1px 2px rgba(60, 64, 67, 0.3), 0px 1px 3px 1px rgba(60, 64, 67, 0.15);\n",
              "      fill: #174EA6;\n",
              "    }\n",
              "\n",
              "    [theme=dark] .colab-df-convert {\n",
              "      background-color: #3B4455;\n",
              "      fill: #D2E3FC;\n",
              "    }\n",
              "\n",
              "    [theme=dark] .colab-df-convert:hover {\n",
              "      background-color: #434B5C;\n",
              "      box-shadow: 0px 1px 3px 1px rgba(0, 0, 0, 0.15);\n",
              "      filter: drop-shadow(0px 1px 2px rgba(0, 0, 0, 0.3));\n",
              "      fill: #FFFFFF;\n",
              "    }\n",
              "  </style>\n",
              "\n",
              "      <script>\n",
              "        const buttonEl =\n",
              "          document.querySelector('#df-f80f0794-792c-4488-81e5-4625cf68041a button.colab-df-convert');\n",
              "        buttonEl.style.display =\n",
              "          google.colab.kernel.accessAllowed ? 'block' : 'none';\n",
              "\n",
              "        async function convertToInteractive(key) {\n",
              "          const element = document.querySelector('#df-f80f0794-792c-4488-81e5-4625cf68041a');\n",
              "          const dataTable =\n",
              "            await google.colab.kernel.invokeFunction('convertToInteractive',\n",
              "                                                     [key], {});\n",
              "          if (!dataTable) return;\n",
              "\n",
              "          const docLinkHtml = 'Like what you see? Visit the ' +\n",
              "            '<a target=\"_blank\" href=https://colab.research.google.com/notebooks/data_table.ipynb>data table notebook</a>'\n",
              "            + ' to learn more about interactive tables.';\n",
              "          element.innerHTML = '';\n",
              "          dataTable['output_type'] = 'display_data';\n",
              "          await google.colab.output.renderOutput(dataTable, element);\n",
              "          const docLink = document.createElement('div');\n",
              "          docLink.innerHTML = docLinkHtml;\n",
              "          element.appendChild(docLink);\n",
              "        }\n",
              "      </script>\n",
              "    </div>\n",
              "  </div>\n",
              "  "
            ]
          },
          "metadata": {},
          "execution_count": 23
        }
      ]
    },
    {
      "cell_type": "markdown",
      "source": [
        "Let's find which district has Maximum Forest Cover?"
      ],
      "metadata": {
        "id": "ulp494VFV-3J"
      }
    },
    {
      "cell_type": "code",
      "source": [
        "df_1.max()"
      ],
      "metadata": {
        "colab": {
          "base_uri": "https://localhost:8080/"
        },
        "id": "6ALsBXnPkbmL",
        "outputId": "67308960-f995-4175-b469-4187a0874558"
      },
      "execution_count": 24,
      "outputs": [
        {
          "output_type": "execute_result",
          "data": {
            "text/plain": [
              "District                           Udaipur\n",
              "Area(Protected Forest(Ha.))    1856445.367\n",
              "Total Forest Area              3286462.165\n",
              "dtype: object"
            ]
          },
          "metadata": {},
          "execution_count": 24
        }
      ]
    },
    {
      "cell_type": "markdown",
      "source": [
        "Let's see which District has Minimum Forest Cover? "
      ],
      "metadata": {
        "id": "bxW0INWeWI56"
      }
    },
    {
      "cell_type": "code",
      "source": [
        "df_1.min()"
      ],
      "metadata": {
        "colab": {
          "base_uri": "https://localhost:8080/"
        },
        "id": "ntc94pkXnNO5",
        "outputId": "2c052099-3cf8-48ab-c0de-d9207ed4187f"
      },
      "execution_count": 25,
      "outputs": [
        {
          "output_type": "execute_result",
          "data": {
            "text/plain": [
              "District                         Ajmer\n",
              "Area(Protected Forest(Ha.))    4857.71\n",
              "Total Forest Area              7373.27\n",
              "dtype: object"
            ]
          },
          "metadata": {},
          "execution_count": 25
        }
      ]
    },
    {
      "cell_type": "code",
      "source": [
        "df.columns"
      ],
      "metadata": {
        "id": "2hClRp_gCtqf",
        "colab": {
          "base_uri": "https://localhost:8080/"
        },
        "outputId": "7b663dd3-d14c-42fd-cbfc-0cf60d0e273e"
      },
      "execution_count": 26,
      "outputs": [
        {
          "output_type": "execute_result",
          "data": {
            "text/plain": [
              "Index(['District', 'Forest Block(Reserved Forest)',\n",
              "       'Area(Reserved Forest(Ha.))', 'Forest Block(Protected Forest)',\n",
              "       'Area(Protected Forest(Ha.))', 'Forest Block(Unclassified Forest)',\n",
              "       'Area(Unclassified Forest(Ha.))', 'Forest Block(Total Forest Area)',\n",
              "       'Total Forest Area'],\n",
              "      dtype='object')"
            ]
          },
          "metadata": {},
          "execution_count": 26
        }
      ]
    },
    {
      "cell_type": "markdown",
      "source": [
        "Let's create another dataframe comprising District, Area(Reserved Forest(Ha.), Area(Protected Forest(Ha.), \"Area(Unclassified Forest(Ha.)) and Total Forest Area."
      ],
      "metadata": {
        "id": "o3c_vOa-WgR6"
      }
    },
    {
      "cell_type": "code",
      "source": [
        "df_2=df[['District','Area(Reserved Forest(Ha.))','Area(Protected Forest(Ha.))','Area(Unclassified Forest(Ha.))', 'Total Forest Area']]\n",
        "df_2.head()"
      ],
      "metadata": {
        "colab": {
          "base_uri": "https://localhost:8080/",
          "height": 206
        },
        "id": "t4uv6HQnWLLK",
        "outputId": "718e304b-b7d3-4f9a-9984-a04821076e65"
      },
      "execution_count": 27,
      "outputs": [
        {
          "output_type": "execute_result",
          "data": {
            "text/plain": [
              "   District  Area(Reserved Forest(Ha.))  Area(Protected Forest(Ha.))  \\\n",
              "0     Ajmer                  19498.9569                    42168.868   \n",
              "1     Alwar                 101078.1300                    64118.480   \n",
              "2  Banswara                      0.0000                   100633.068   \n",
              "3     Baran                      0.0000                   223302.670   \n",
              "4    Barmer                   2029.5500                    56902.198   \n",
              "\n",
              "   Area(Unclassified Forest(Ha.))  Total Forest Area  \n",
              "0                        189.1220         61856.9469  \n",
              "1                      13269.3700        178465.9800  \n",
              "2                         66.4400        100699.5080  \n",
              "3                       2039.7900        225342.4600  \n",
              "4                       3666.1352         62597.8832  "
            ],
            "text/html": [
              "\n",
              "  <div id=\"df-c1feed3e-7421-42a4-8abd-93aaf0b00828\">\n",
              "    <div class=\"colab-df-container\">\n",
              "      <div>\n",
              "<style scoped>\n",
              "    .dataframe tbody tr th:only-of-type {\n",
              "        vertical-align: middle;\n",
              "    }\n",
              "\n",
              "    .dataframe tbody tr th {\n",
              "        vertical-align: top;\n",
              "    }\n",
              "\n",
              "    .dataframe thead th {\n",
              "        text-align: right;\n",
              "    }\n",
              "</style>\n",
              "<table border=\"1\" class=\"dataframe\">\n",
              "  <thead>\n",
              "    <tr style=\"text-align: right;\">\n",
              "      <th></th>\n",
              "      <th>District</th>\n",
              "      <th>Area(Reserved Forest(Ha.))</th>\n",
              "      <th>Area(Protected Forest(Ha.))</th>\n",
              "      <th>Area(Unclassified Forest(Ha.))</th>\n",
              "      <th>Total Forest Area</th>\n",
              "    </tr>\n",
              "  </thead>\n",
              "  <tbody>\n",
              "    <tr>\n",
              "      <th>0</th>\n",
              "      <td>Ajmer</td>\n",
              "      <td>19498.9569</td>\n",
              "      <td>42168.868</td>\n",
              "      <td>189.1220</td>\n",
              "      <td>61856.9469</td>\n",
              "    </tr>\n",
              "    <tr>\n",
              "      <th>1</th>\n",
              "      <td>Alwar</td>\n",
              "      <td>101078.1300</td>\n",
              "      <td>64118.480</td>\n",
              "      <td>13269.3700</td>\n",
              "      <td>178465.9800</td>\n",
              "    </tr>\n",
              "    <tr>\n",
              "      <th>2</th>\n",
              "      <td>Banswara</td>\n",
              "      <td>0.0000</td>\n",
              "      <td>100633.068</td>\n",
              "      <td>66.4400</td>\n",
              "      <td>100699.5080</td>\n",
              "    </tr>\n",
              "    <tr>\n",
              "      <th>3</th>\n",
              "      <td>Baran</td>\n",
              "      <td>0.0000</td>\n",
              "      <td>223302.670</td>\n",
              "      <td>2039.7900</td>\n",
              "      <td>225342.4600</td>\n",
              "    </tr>\n",
              "    <tr>\n",
              "      <th>4</th>\n",
              "      <td>Barmer</td>\n",
              "      <td>2029.5500</td>\n",
              "      <td>56902.198</td>\n",
              "      <td>3666.1352</td>\n",
              "      <td>62597.8832</td>\n",
              "    </tr>\n",
              "  </tbody>\n",
              "</table>\n",
              "</div>\n",
              "      <button class=\"colab-df-convert\" onclick=\"convertToInteractive('df-c1feed3e-7421-42a4-8abd-93aaf0b00828')\"\n",
              "              title=\"Convert this dataframe to an interactive table.\"\n",
              "              style=\"display:none;\">\n",
              "        \n",
              "  <svg xmlns=\"http://www.w3.org/2000/svg\" height=\"24px\"viewBox=\"0 0 24 24\"\n",
              "       width=\"24px\">\n",
              "    <path d=\"M0 0h24v24H0V0z\" fill=\"none\"/>\n",
              "    <path d=\"M18.56 5.44l.94 2.06.94-2.06 2.06-.94-2.06-.94-.94-2.06-.94 2.06-2.06.94zm-11 1L8.5 8.5l.94-2.06 2.06-.94-2.06-.94L8.5 2.5l-.94 2.06-2.06.94zm10 10l.94 2.06.94-2.06 2.06-.94-2.06-.94-.94-2.06-.94 2.06-2.06.94z\"/><path d=\"M17.41 7.96l-1.37-1.37c-.4-.4-.92-.59-1.43-.59-.52 0-1.04.2-1.43.59L10.3 9.45l-7.72 7.72c-.78.78-.78 2.05 0 2.83L4 21.41c.39.39.9.59 1.41.59.51 0 1.02-.2 1.41-.59l7.78-7.78 2.81-2.81c.8-.78.8-2.07 0-2.86zM5.41 20L4 18.59l7.72-7.72 1.47 1.35L5.41 20z\"/>\n",
              "  </svg>\n",
              "      </button>\n",
              "      \n",
              "  <style>\n",
              "    .colab-df-container {\n",
              "      display:flex;\n",
              "      flex-wrap:wrap;\n",
              "      gap: 12px;\n",
              "    }\n",
              "\n",
              "    .colab-df-convert {\n",
              "      background-color: #E8F0FE;\n",
              "      border: none;\n",
              "      border-radius: 50%;\n",
              "      cursor: pointer;\n",
              "      display: none;\n",
              "      fill: #1967D2;\n",
              "      height: 32px;\n",
              "      padding: 0 0 0 0;\n",
              "      width: 32px;\n",
              "    }\n",
              "\n",
              "    .colab-df-convert:hover {\n",
              "      background-color: #E2EBFA;\n",
              "      box-shadow: 0px 1px 2px rgba(60, 64, 67, 0.3), 0px 1px 3px 1px rgba(60, 64, 67, 0.15);\n",
              "      fill: #174EA6;\n",
              "    }\n",
              "\n",
              "    [theme=dark] .colab-df-convert {\n",
              "      background-color: #3B4455;\n",
              "      fill: #D2E3FC;\n",
              "    }\n",
              "\n",
              "    [theme=dark] .colab-df-convert:hover {\n",
              "      background-color: #434B5C;\n",
              "      box-shadow: 0px 1px 3px 1px rgba(0, 0, 0, 0.15);\n",
              "      filter: drop-shadow(0px 1px 2px rgba(0, 0, 0, 0.3));\n",
              "      fill: #FFFFFF;\n",
              "    }\n",
              "  </style>\n",
              "\n",
              "      <script>\n",
              "        const buttonEl =\n",
              "          document.querySelector('#df-c1feed3e-7421-42a4-8abd-93aaf0b00828 button.colab-df-convert');\n",
              "        buttonEl.style.display =\n",
              "          google.colab.kernel.accessAllowed ? 'block' : 'none';\n",
              "\n",
              "        async function convertToInteractive(key) {\n",
              "          const element = document.querySelector('#df-c1feed3e-7421-42a4-8abd-93aaf0b00828');\n",
              "          const dataTable =\n",
              "            await google.colab.kernel.invokeFunction('convertToInteractive',\n",
              "                                                     [key], {});\n",
              "          if (!dataTable) return;\n",
              "\n",
              "          const docLinkHtml = 'Like what you see? Visit the ' +\n",
              "            '<a target=\"_blank\" href=https://colab.research.google.com/notebooks/data_table.ipynb>data table notebook</a>'\n",
              "            + ' to learn more about interactive tables.';\n",
              "          element.innerHTML = '';\n",
              "          dataTable['output_type'] = 'display_data';\n",
              "          await google.colab.output.renderOutput(dataTable, element);\n",
              "          const docLink = document.createElement('div');\n",
              "          docLink.innerHTML = docLinkHtml;\n",
              "          element.appendChild(docLink);\n",
              "        }\n",
              "      </script>\n",
              "    </div>\n",
              "  </div>\n",
              "  "
            ]
          },
          "metadata": {},
          "execution_count": 27
        }
      ]
    },
    {
      "cell_type": "markdown",
      "source": [
        "Let's see which District has maximum value?"
      ],
      "metadata": {
        "id": "2OLqss6SXMFD"
      }
    },
    {
      "cell_type": "code",
      "source": [
        "df_2.max()"
      ],
      "metadata": {
        "colab": {
          "base_uri": "https://localhost:8080/"
        },
        "id": "XgRpdoe3W7cO",
        "outputId": "c41348c2-8160-4cdc-eab2-545b30768f35"
      },
      "execution_count": 28,
      "outputs": [
        {
          "output_type": "execute_result",
          "data": {
            "text/plain": [
              "District                              Udaipur\n",
              "Area(Reserved Forest(Ha.))        1217623.547\n",
              "Area(Protected Forest(Ha.))       1856445.367\n",
              "Area(Unclassified Forest(Ha.))    212393.2515\n",
              "Total Forest Area                 3286462.165\n",
              "dtype: object"
            ]
          },
          "metadata": {},
          "execution_count": 28
        }
      ]
    },
    {
      "cell_type": "markdown",
      "source": [
        "Let's see which District has Minimum Value?"
      ],
      "metadata": {
        "id": "5hxJExeMXW6T"
      }
    },
    {
      "cell_type": "code",
      "source": [
        "df_2.min()"
      ],
      "metadata": {
        "colab": {
          "base_uri": "https://localhost:8080/"
        },
        "id": "NDn-QjWaXFIE",
        "outputId": "f24004ea-2cb4-405e-f60f-5f0a2be84c14"
      },
      "execution_count": 29,
      "outputs": [
        {
          "output_type": "execute_result",
          "data": {
            "text/plain": [
              "District                            Ajmer\n",
              "Area(Reserved Forest(Ha.))            0.0\n",
              "Area(Protected Forest(Ha.))       4857.71\n",
              "Area(Unclassified Forest(Ha.))        0.0\n",
              "Total Forest Area                 7373.27\n",
              "dtype: object"
            ]
          },
          "metadata": {},
          "execution_count": 29
        }
      ]
    },
    {
      "cell_type": "markdown",
      "source": [
        "Let's know more about Kota District."
      ],
      "metadata": {
        "id": "Av9cHqgZXfWD"
      }
    },
    {
      "cell_type": "code",
      "source": [
        "df_2.iloc[22]"
      ],
      "metadata": {
        "colab": {
          "base_uri": "https://localhost:8080/"
        },
        "id": "LxQZXI4yYGig",
        "outputId": "4f677d71-dbba-4cb2-b266-4e72cb194681"
      },
      "execution_count": 30,
      "outputs": [
        {
          "output_type": "execute_result",
          "data": {
            "text/plain": [
              "District                                Kota\n",
              "Area(Reserved Forest(Ha.))         83762.985\n",
              "Area(Protected Forest(Ha.))        45257.968\n",
              "Area(Unclassified Forest(Ha.))      7737.734\n",
              "Total Forest Area                 136758.687\n",
              "Name: 22, dtype: object"
            ]
          },
          "metadata": {},
          "execution_count": 30
        }
      ]
    }
  ]
}