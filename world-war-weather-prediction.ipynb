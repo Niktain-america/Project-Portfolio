{
 "cells": [
  {
   "cell_type": "code",
   "execution_count": 1,
   "id": "d2519eb5",
   "metadata": {
    "execution": {
     "iopub.execute_input": "2023-01-15T13:03:48.154457Z",
     "iopub.status.busy": "2023-01-15T13:03:48.153956Z",
     "iopub.status.idle": "2023-01-15T13:03:49.319768Z",
     "shell.execute_reply": "2023-01-15T13:03:49.318061Z"
    },
    "papermill": {
     "duration": 1.182644,
     "end_time": "2023-01-15T13:03:49.322849",
     "exception": false,
     "start_time": "2023-01-15T13:03:48.140205",
     "status": "completed"
    },
    "tags": []
   },
   "outputs": [],
   "source": [
    "import numpy as np\n",
    "import pandas as pd\n",
    "import matplotlib.pyplot as plt\n",
    "from sklearn import metrics\n",
    "\n"
   ]
  },
  {
   "cell_type": "code",
   "execution_count": 2,
   "id": "bcadd94a",
   "metadata": {
    "execution": {
     "iopub.execute_input": "2023-01-15T13:03:49.345924Z",
     "iopub.status.busy": "2023-01-15T13:03:49.345490Z",
     "iopub.status.idle": "2023-01-15T13:03:49.983750Z",
     "shell.execute_reply": "2023-01-15T13:03:49.982600Z"
    },
    "papermill": {
     "duration": 0.653478,
     "end_time": "2023-01-15T13:03:49.986822",
     "exception": false,
     "start_time": "2023-01-15T13:03:49.333344",
     "status": "completed"
    },
    "tags": []
   },
   "outputs": [
    {
     "name": "stderr",
     "output_type": "stream",
     "text": [
      "/opt/conda/lib/python3.7/site-packages/IPython/core/interactiveshell.py:3552: DtypeWarning: Columns (7,8,18,25) have mixed types.Specify dtype option on import or set low_memory=False.\n",
      "  exec(code_obj, self.user_global_ns, self.user_ns)\n"
     ]
    }
   ],
   "source": [
    "df=pd.read_csv('../input/weatherww2/Summary of Weather.csv')"
   ]
  },
  {
   "cell_type": "code",
   "execution_count": 3,
   "id": "e43d7a34",
   "metadata": {
    "execution": {
     "iopub.execute_input": "2023-01-15T13:03:50.017771Z",
     "iopub.status.busy": "2023-01-15T13:03:50.017155Z",
     "iopub.status.idle": "2023-01-15T13:03:50.054590Z",
     "shell.execute_reply": "2023-01-15T13:03:50.053051Z"
    },
    "papermill": {
     "duration": 0.058725,
     "end_time": "2023-01-15T13:03:50.057321",
     "exception": false,
     "start_time": "2023-01-15T13:03:49.998596",
     "status": "completed"
    },
    "tags": []
   },
   "outputs": [
    {
     "data": {
      "text/html": [
       "<div>\n",
       "<style scoped>\n",
       "    .dataframe tbody tr th:only-of-type {\n",
       "        vertical-align: middle;\n",
       "    }\n",
       "\n",
       "    .dataframe tbody tr th {\n",
       "        vertical-align: top;\n",
       "    }\n",
       "\n",
       "    .dataframe thead th {\n",
       "        text-align: right;\n",
       "    }\n",
       "</style>\n",
       "<table border=\"1\" class=\"dataframe\">\n",
       "  <thead>\n",
       "    <tr style=\"text-align: right;\">\n",
       "      <th></th>\n",
       "      <th>STA</th>\n",
       "      <th>Date</th>\n",
       "      <th>Precip</th>\n",
       "      <th>WindGustSpd</th>\n",
       "      <th>MaxTemp</th>\n",
       "      <th>MinTemp</th>\n",
       "      <th>MeanTemp</th>\n",
       "      <th>Snowfall</th>\n",
       "      <th>PoorWeather</th>\n",
       "      <th>YR</th>\n",
       "      <th>...</th>\n",
       "      <th>FB</th>\n",
       "      <th>FTI</th>\n",
       "      <th>ITH</th>\n",
       "      <th>PGT</th>\n",
       "      <th>TSHDSBRSGF</th>\n",
       "      <th>SD3</th>\n",
       "      <th>RHX</th>\n",
       "      <th>RHN</th>\n",
       "      <th>RVG</th>\n",
       "      <th>WTE</th>\n",
       "    </tr>\n",
       "  </thead>\n",
       "  <tbody>\n",
       "    <tr>\n",
       "      <th>0</th>\n",
       "      <td>10001</td>\n",
       "      <td>1942-7-1</td>\n",
       "      <td>1.016</td>\n",
       "      <td>NaN</td>\n",
       "      <td>25.555556</td>\n",
       "      <td>22.222222</td>\n",
       "      <td>23.888889</td>\n",
       "      <td>0.0</td>\n",
       "      <td>NaN</td>\n",
       "      <td>42</td>\n",
       "      <td>...</td>\n",
       "      <td>NaN</td>\n",
       "      <td>NaN</td>\n",
       "      <td>NaN</td>\n",
       "      <td>NaN</td>\n",
       "      <td>NaN</td>\n",
       "      <td>NaN</td>\n",
       "      <td>NaN</td>\n",
       "      <td>NaN</td>\n",
       "      <td>NaN</td>\n",
       "      <td>NaN</td>\n",
       "    </tr>\n",
       "    <tr>\n",
       "      <th>1</th>\n",
       "      <td>10001</td>\n",
       "      <td>1942-7-2</td>\n",
       "      <td>0</td>\n",
       "      <td>NaN</td>\n",
       "      <td>28.888889</td>\n",
       "      <td>21.666667</td>\n",
       "      <td>25.555556</td>\n",
       "      <td>0.0</td>\n",
       "      <td>NaN</td>\n",
       "      <td>42</td>\n",
       "      <td>...</td>\n",
       "      <td>NaN</td>\n",
       "      <td>NaN</td>\n",
       "      <td>NaN</td>\n",
       "      <td>NaN</td>\n",
       "      <td>NaN</td>\n",
       "      <td>NaN</td>\n",
       "      <td>NaN</td>\n",
       "      <td>NaN</td>\n",
       "      <td>NaN</td>\n",
       "      <td>NaN</td>\n",
       "    </tr>\n",
       "    <tr>\n",
       "      <th>2</th>\n",
       "      <td>10001</td>\n",
       "      <td>1942-7-3</td>\n",
       "      <td>2.54</td>\n",
       "      <td>NaN</td>\n",
       "      <td>26.111111</td>\n",
       "      <td>22.222222</td>\n",
       "      <td>24.444444</td>\n",
       "      <td>0.0</td>\n",
       "      <td>NaN</td>\n",
       "      <td>42</td>\n",
       "      <td>...</td>\n",
       "      <td>NaN</td>\n",
       "      <td>NaN</td>\n",
       "      <td>NaN</td>\n",
       "      <td>NaN</td>\n",
       "      <td>NaN</td>\n",
       "      <td>NaN</td>\n",
       "      <td>NaN</td>\n",
       "      <td>NaN</td>\n",
       "      <td>NaN</td>\n",
       "      <td>NaN</td>\n",
       "    </tr>\n",
       "    <tr>\n",
       "      <th>3</th>\n",
       "      <td>10001</td>\n",
       "      <td>1942-7-4</td>\n",
       "      <td>2.54</td>\n",
       "      <td>NaN</td>\n",
       "      <td>26.666667</td>\n",
       "      <td>22.222222</td>\n",
       "      <td>24.444444</td>\n",
       "      <td>0.0</td>\n",
       "      <td>NaN</td>\n",
       "      <td>42</td>\n",
       "      <td>...</td>\n",
       "      <td>NaN</td>\n",
       "      <td>NaN</td>\n",
       "      <td>NaN</td>\n",
       "      <td>NaN</td>\n",
       "      <td>NaN</td>\n",
       "      <td>NaN</td>\n",
       "      <td>NaN</td>\n",
       "      <td>NaN</td>\n",
       "      <td>NaN</td>\n",
       "      <td>NaN</td>\n",
       "    </tr>\n",
       "    <tr>\n",
       "      <th>4</th>\n",
       "      <td>10001</td>\n",
       "      <td>1942-7-5</td>\n",
       "      <td>0</td>\n",
       "      <td>NaN</td>\n",
       "      <td>26.666667</td>\n",
       "      <td>21.666667</td>\n",
       "      <td>24.444444</td>\n",
       "      <td>0.0</td>\n",
       "      <td>NaN</td>\n",
       "      <td>42</td>\n",
       "      <td>...</td>\n",
       "      <td>NaN</td>\n",
       "      <td>NaN</td>\n",
       "      <td>NaN</td>\n",
       "      <td>NaN</td>\n",
       "      <td>NaN</td>\n",
       "      <td>NaN</td>\n",
       "      <td>NaN</td>\n",
       "      <td>NaN</td>\n",
       "      <td>NaN</td>\n",
       "      <td>NaN</td>\n",
       "    </tr>\n",
       "  </tbody>\n",
       "</table>\n",
       "<p>5 rows × 31 columns</p>\n",
       "</div>"
      ],
      "text/plain": [
       "     STA      Date Precip  WindGustSpd    MaxTemp    MinTemp   MeanTemp  \\\n",
       "0  10001  1942-7-1  1.016          NaN  25.555556  22.222222  23.888889   \n",
       "1  10001  1942-7-2      0          NaN  28.888889  21.666667  25.555556   \n",
       "2  10001  1942-7-3   2.54          NaN  26.111111  22.222222  24.444444   \n",
       "3  10001  1942-7-4   2.54          NaN  26.666667  22.222222  24.444444   \n",
       "4  10001  1942-7-5      0          NaN  26.666667  21.666667  24.444444   \n",
       "\n",
       "  Snowfall PoorWeather  YR  ...  FB  FTI ITH  PGT  TSHDSBRSGF  SD3  RHX  RHN  \\\n",
       "0      0.0         NaN  42  ... NaN  NaN NaN  NaN         NaN  NaN  NaN  NaN   \n",
       "1      0.0         NaN  42  ... NaN  NaN NaN  NaN         NaN  NaN  NaN  NaN   \n",
       "2      0.0         NaN  42  ... NaN  NaN NaN  NaN         NaN  NaN  NaN  NaN   \n",
       "3      0.0         NaN  42  ... NaN  NaN NaN  NaN         NaN  NaN  NaN  NaN   \n",
       "4      0.0         NaN  42  ... NaN  NaN NaN  NaN         NaN  NaN  NaN  NaN   \n",
       "\n",
       "  RVG  WTE  \n",
       "0 NaN  NaN  \n",
       "1 NaN  NaN  \n",
       "2 NaN  NaN  \n",
       "3 NaN  NaN  \n",
       "4 NaN  NaN  \n",
       "\n",
       "[5 rows x 31 columns]"
      ]
     },
     "execution_count": 3,
     "metadata": {},
     "output_type": "execute_result"
    }
   ],
   "source": [
    "df.head()"
   ]
  },
  {
   "cell_type": "code",
   "execution_count": 4,
   "id": "2bd5a9e5",
   "metadata": {
    "execution": {
     "iopub.execute_input": "2023-01-15T13:03:50.081646Z",
     "iopub.status.busy": "2023-01-15T13:03:50.081264Z",
     "iopub.status.idle": "2023-01-15T13:03:50.146604Z",
     "shell.execute_reply": "2023-01-15T13:03:50.144859Z"
    },
    "papermill": {
     "duration": 0.08086,
     "end_time": "2023-01-15T13:03:50.149753",
     "exception": false,
     "start_time": "2023-01-15T13:03:50.068893",
     "status": "completed"
    },
    "tags": []
   },
   "outputs": [
    {
     "name": "stdout",
     "output_type": "stream",
     "text": [
      "<class 'pandas.core.frame.DataFrame'>\n",
      "RangeIndex: 119040 entries, 0 to 119039\n",
      "Data columns (total 31 columns):\n",
      " #   Column       Non-Null Count   Dtype  \n",
      "---  ------       --------------   -----  \n",
      " 0   STA          119040 non-null  int64  \n",
      " 1   Date         119040 non-null  object \n",
      " 2   Precip       119040 non-null  object \n",
      " 3   WindGustSpd  532 non-null     float64\n",
      " 4   MaxTemp      119040 non-null  float64\n",
      " 5   MinTemp      119040 non-null  float64\n",
      " 6   MeanTemp     119040 non-null  float64\n",
      " 7   Snowfall     117877 non-null  object \n",
      " 8   PoorWeather  34237 non-null   object \n",
      " 9   YR           119040 non-null  int64  \n",
      " 10  MO           119040 non-null  int64  \n",
      " 11  DA           119040 non-null  int64  \n",
      " 12  PRCP         117108 non-null  object \n",
      " 13  DR           533 non-null     float64\n",
      " 14  SPD          532 non-null     float64\n",
      " 15  MAX          118566 non-null  float64\n",
      " 16  MIN          118572 non-null  float64\n",
      " 17  MEA          118542 non-null  float64\n",
      " 18  SNF          117877 non-null  object \n",
      " 19  SND          5563 non-null    float64\n",
      " 20  FT           0 non-null       float64\n",
      " 21  FB           0 non-null       float64\n",
      " 22  FTI          0 non-null       float64\n",
      " 23  ITH          0 non-null       float64\n",
      " 24  PGT          525 non-null     float64\n",
      " 25  TSHDSBRSGF   34237 non-null   object \n",
      " 26  SD3          0 non-null       float64\n",
      " 27  RHX          0 non-null       float64\n",
      " 28  RHN          0 non-null       float64\n",
      " 29  RVG          0 non-null       float64\n",
      " 30  WTE          0 non-null       float64\n",
      "dtypes: float64(20), int64(4), object(7)\n",
      "memory usage: 28.2+ MB\n"
     ]
    }
   ],
   "source": [
    "df.info()"
   ]
  },
  {
   "cell_type": "markdown",
   "id": "bfbf2121",
   "metadata": {
    "papermill": {
     "duration": 0.013436,
     "end_time": "2023-01-15T13:03:50.175414",
     "exception": false,
     "start_time": "2023-01-15T13:03:50.161978",
     "status": "completed"
    },
    "tags": []
   },
   "source": [
    " **Defining the Variables where the values of Columns of Min and Max Temp can be stored.**"
   ]
  },
  {
   "cell_type": "code",
   "execution_count": 5,
   "id": "e3dfb2d5",
   "metadata": {
    "execution": {
     "iopub.execute_input": "2023-01-15T13:03:50.201822Z",
     "iopub.status.busy": "2023-01-15T13:03:50.200510Z",
     "iopub.status.idle": "2023-01-15T13:03:50.207354Z",
     "shell.execute_reply": "2023-01-15T13:03:50.206202Z"
    },
    "papermill": {
     "duration": 0.021984,
     "end_time": "2023-01-15T13:03:50.209903",
     "exception": false,
     "start_time": "2023-01-15T13:03:50.187919",
     "status": "completed"
    },
    "tags": []
   },
   "outputs": [],
   "source": [
    "X=df.iloc[:,5].values\n",
    "Y=df.iloc[:,6].values"
   ]
  },
  {
   "cell_type": "markdown",
   "id": "42f128cd",
   "metadata": {
    "papermill": {
     "duration": 0.011167,
     "end_time": "2023-01-15T13:03:50.233187",
     "exception": false,
     "start_time": "2023-01-15T13:03:50.222020",
     "status": "completed"
    },
    "tags": []
   },
   "source": [
    "**Checking the null values in both the columns, if any?**"
   ]
  },
  {
   "cell_type": "code",
   "execution_count": 6,
   "id": "dba751c0",
   "metadata": {
    "execution": {
     "iopub.execute_input": "2023-01-15T13:03:50.257439Z",
     "iopub.status.busy": "2023-01-15T13:03:50.256924Z",
     "iopub.status.idle": "2023-01-15T13:03:50.265692Z",
     "shell.execute_reply": "2023-01-15T13:03:50.264086Z"
    },
    "papermill": {
     "duration": 0.023832,
     "end_time": "2023-01-15T13:03:50.268273",
     "exception": false,
     "start_time": "2023-01-15T13:03:50.244441",
     "status": "completed"
    },
    "tags": []
   },
   "outputs": [
    {
     "name": "stdout",
     "output_type": "stream",
     "text": [
      "False\n",
      "False\n"
     ]
    }
   ],
   "source": [
    "print(df['MinTemp'].isnull().any())\n",
    "print(df['MaxTemp'].isnull().any())"
   ]
  },
  {
   "cell_type": "markdown",
   "id": "bfb7bf46",
   "metadata": {
    "papermill": {
     "duration": 0.01037,
     "end_time": "2023-01-15T13:03:50.289695",
     "exception": false,
     "start_time": "2023-01-15T13:03:50.279325",
     "status": "completed"
    },
    "tags": []
   },
   "source": [
    "**Plotting the MinTemp on X axis and MaxTemp on Y axis through scatter plot.**"
   ]
  },
  {
   "cell_type": "code",
   "execution_count": 7,
   "id": "c6608f15",
   "metadata": {
    "execution": {
     "iopub.execute_input": "2023-01-15T13:03:50.312801Z",
     "iopub.status.busy": "2023-01-15T13:03:50.312405Z",
     "iopub.status.idle": "2023-01-15T13:03:50.793057Z",
     "shell.execute_reply": "2023-01-15T13:03:50.791561Z"
    },
    "papermill": {
     "duration": 0.495603,
     "end_time": "2023-01-15T13:03:50.795863",
     "exception": false,
     "start_time": "2023-01-15T13:03:50.300260",
     "status": "completed"
    },
    "tags": []
   },
   "outputs": [
    {
     "data": {
      "image/png": "[encoded data removed]",
      "text/plain": [
       "<Figure size 432x288 with 1 Axes>"
      ]
     },
     "metadata": {
      "needs_background": "light"
     },
     "output_type": "display_data"
    }
   ],
   "source": [
    "plt.scatter(X,Y)\n",
    "plt.xlabel('Min Temp')\n",
    "plt.ylabel('Max Temp')\n",
    "plt.show()"
   ]
  },
  {
   "cell_type": "markdown",
   "id": "a5aaa824",
   "metadata": {
    "papermill": {
     "duration": 0.01109,
     "end_time": "2023-01-15T13:03:50.818893",
     "exception": false,
     "start_time": "2023-01-15T13:03:50.807803",
     "status": "completed"
    },
    "tags": []
   },
   "source": [
    "**Splitting the Data into train-test split(70:30).**"
   ]
  },
  {
   "cell_type": "code",
   "execution_count": 8,
   "id": "cfc49fac",
   "metadata": {
    "execution": {
     "iopub.execute_input": "2023-01-15T13:03:50.843928Z",
     "iopub.status.busy": "2023-01-15T13:03:50.843474Z",
     "iopub.status.idle": "2023-01-15T13:03:50.869485Z",
     "shell.execute_reply": "2023-01-15T13:03:50.868341Z"
    },
    "papermill": {
     "duration": 0.042478,
     "end_time": "2023-01-15T13:03:50.872552",
     "exception": false,
     "start_time": "2023-01-15T13:03:50.830074",
     "status": "completed"
    },
    "tags": []
   },
   "outputs": [],
   "source": [
    "from sklearn.model_selection import train_test_split\n",
    "X_train, X_test, y_train, y_test=train_test_split(X,Y,test_size=0.3)"
   ]
  },
  {
   "cell_type": "code",
   "execution_count": 9,
   "id": "46a1d981",
   "metadata": {
    "execution": {
     "iopub.execute_input": "2023-01-15T13:03:50.896771Z",
     "iopub.status.busy": "2023-01-15T13:03:50.896367Z",
     "iopub.status.idle": "2023-01-15T13:03:50.902694Z",
     "shell.execute_reply": "2023-01-15T13:03:50.901470Z"
    },
    "papermill": {
     "duration": 0.021562,
     "end_time": "2023-01-15T13:03:50.905280",
     "exception": false,
     "start_time": "2023-01-15T13:03:50.883718",
     "status": "completed"
    },
    "tags": []
   },
   "outputs": [],
   "source": [
    "X_train=X_train.reshape(-1,1)\n",
    "y_train=y_train.reshape(-1,1)\n",
    "X_test=X_test.reshape(-1,1)"
   ]
  },
  {
   "cell_type": "markdown",
   "id": "5db85fe9",
   "metadata": {
    "papermill": {
     "duration": 0.010795,
     "end_time": "2023-01-15T13:03:50.927435",
     "exception": false,
     "start_time": "2023-01-15T13:03:50.916640",
     "status": "completed"
    },
    "tags": []
   },
   "source": [
    "**Defining the Model ie, Linear Regression here.** \n",
    "**Fitting the model.**\n"
   ]
  },
  {
   "cell_type": "code",
   "execution_count": 10,
   "id": "e28529fe",
   "metadata": {
    "execution": {
     "iopub.execute_input": "2023-01-15T13:03:50.951169Z",
     "iopub.status.busy": "2023-01-15T13:03:50.950706Z",
     "iopub.status.idle": "2023-01-15T13:03:51.062454Z",
     "shell.execute_reply": "2023-01-15T13:03:51.061003Z"
    },
    "papermill": {
     "duration": 0.127211,
     "end_time": "2023-01-15T13:03:51.065598",
     "exception": false,
     "start_time": "2023-01-15T13:03:50.938387",
     "status": "completed"
    },
    "tags": []
   },
   "outputs": [],
   "source": [
    "from sklearn.linear_model import LinearRegression\n",
    "ref = LinearRegression()\n",
    "ref.fit(X_train, y_train)\n",
    "y_pred4 = ref.predict(X_test)"
   ]
  },
  {
   "cell_type": "markdown",
   "id": "f2fcb3fc",
   "metadata": {
    "papermill": {
     "duration": 0.010655,
     "end_time": "2023-01-15T13:03:51.087274",
     "exception": false,
     "start_time": "2023-01-15T13:03:51.076619",
     "status": "completed"
    },
    "tags": []
   },
   "source": [
    "**Checking the Accuracy of y_pred and y_test through scatter plot.**"
   ]
  },
  {
   "cell_type": "code",
   "execution_count": 11,
   "id": "28948a43",
   "metadata": {
    "execution": {
     "iopub.execute_input": "2023-01-15T13:03:51.111052Z",
     "iopub.status.busy": "2023-01-15T13:03:51.110642Z",
     "iopub.status.idle": "2023-01-15T13:03:51.387227Z",
     "shell.execute_reply": "2023-01-15T13:03:51.386211Z"
    },
    "papermill": {
     "duration": 0.292386,
     "end_time": "2023-01-15T13:03:51.390381",
     "exception": false,
     "start_time": "2023-01-15T13:03:51.097995",
     "status": "completed"
    },
    "tags": []
   },
   "outputs": [
    {
     "data": {
      "image/png": "[encoded data removed]",
      "text/plain": [
       "<Figure size 432x288 with 1 Axes>"
      ]
     },
     "metadata": {
      "needs_background": "light"
     },
     "output_type": "display_data"
    }
   ],
   "source": [
    "plt.scatter(y_test,y_pred4)\n",
    "plt.xlabel('y_test')\n",
    "plt.ylabel('y_pred')\n",
    "plt.show()"
   ]
  },
  {
   "cell_type": "code",
   "execution_count": 12,
   "id": "3c1a679c",
   "metadata": {
    "execution": {
     "iopub.execute_input": "2023-01-15T13:03:51.415933Z",
     "iopub.status.busy": "2023-01-15T13:03:51.415509Z",
     "iopub.status.idle": "2023-01-15T13:03:51.711468Z",
     "shell.execute_reply": "2023-01-15T13:03:51.709981Z"
    },
    "papermill": {
     "duration": 0.311392,
     "end_time": "2023-01-15T13:03:51.714189",
     "exception": false,
     "start_time": "2023-01-15T13:03:51.402797",
     "status": "completed"
    },
    "tags": []
   },
   "outputs": [
    {
     "data": {
      "image/png": "[encoded data removed]",
      "text/plain": [
       "<Figure size 432x288 with 1 Axes>"
      ]
     },
     "metadata": {
      "needs_background": "light"
     },
     "output_type": "display_data"
    }
   ],
   "source": [
    "plt.scatter(X_test, y_test, color='green')\n",
    "plt.plot(X_test,y_pred4,color='blue')\n",
    "plt.xlabel('X_test')\n",
    "plt.ylabel('y_test')\n",
    "plt.grid()\n",
    "plt.show()"
   ]
  },
  {
   "cell_type": "code",
   "execution_count": 13,
   "id": "996239fb",
   "metadata": {
    "execution": {
     "iopub.execute_input": "2023-01-15T13:03:51.740038Z",
     "iopub.status.busy": "2023-01-15T13:03:51.739630Z",
     "iopub.status.idle": "2023-01-15T13:03:51.747344Z",
     "shell.execute_reply": "2023-01-15T13:03:51.745839Z"
    },
    "papermill": {
     "duration": 0.023725,
     "end_time": "2023-01-15T13:03:51.749727",
     "exception": false,
     "start_time": "2023-01-15T13:03:51.726002",
     "status": "completed"
    },
    "tags": []
   },
   "outputs": [
    {
     "name": "stdout",
     "output_type": "stream",
     "text": [
      "m : [[0.96127125]]\n",
      "c : [5.31010575]\n"
     ]
    }
   ],
   "source": [
    "print('m :', ref.coef_)\n",
    "print('c :', ref.intercept_)"
   ]
  },
  {
   "cell_type": "code",
   "execution_count": 14,
   "id": "35f7fc5b",
   "metadata": {
    "execution": {
     "iopub.execute_input": "2023-01-15T13:03:51.776764Z",
     "iopub.status.busy": "2023-01-15T13:03:51.776348Z",
     "iopub.status.idle": "2023-01-15T13:03:51.784494Z",
     "shell.execute_reply": "2023-01-15T13:03:51.782895Z"
    },
    "papermill": {
     "duration": 0.025182,
     "end_time": "2023-01-15T13:03:51.787285",
     "exception": false,
     "start_time": "2023-01-15T13:03:51.762103",
     "status": "completed"
    },
    "tags": []
   },
   "outputs": [
    {
     "name": "stdout",
     "output_type": "stream",
     "text": [
      "R2 : 0.9318568147696291\n"
     ]
    }
   ],
   "source": [
    "r2 = ref.score(X_test, y_test)\n",
    "print('R2 :',r2)"
   ]
  },
  {
   "cell_type": "code",
   "execution_count": 15,
   "id": "078f35c2",
   "metadata": {
    "execution": {
     "iopub.execute_input": "2023-01-15T13:03:51.812335Z",
     "iopub.status.busy": "2023-01-15T13:03:51.811912Z",
     "iopub.status.idle": "2023-01-15T13:03:51.819595Z",
     "shell.execute_reply": "2023-01-15T13:03:51.817910Z"
    },
    "papermill": {
     "duration": 0.023142,
     "end_time": "2023-01-15T13:03:51.822109",
     "exception": false,
     "start_time": "2023-01-15T13:03:51.798967",
     "status": "completed"
    },
    "tags": []
   },
   "outputs": [
    {
     "name": "stdout",
     "output_type": "stream",
     "text": [
      "mean_squared_error : 4.6960056938186145\n"
     ]
    }
   ],
   "source": [
    "print(\"mean_squared_error :\",metrics.mean_squared_error(y_test, y_pred4))"
   ]
  },
  {
   "cell_type": "markdown",
   "id": "0f1b3a0a",
   "metadata": {
    "papermill": {
     "duration": 0.013233,
     "end_time": "2023-01-15T13:03:51.847442",
     "exception": false,
     "start_time": "2023-01-15T13:03:51.834209",
     "status": "completed"
    },
    "tags": []
   },
   "source": [
    "# ****Now we will use user define function for prediction"
   ]
  },
  {
   "cell_type": "code",
   "execution_count": 16,
   "id": "f71685e4",
   "metadata": {
    "execution": {
     "iopub.execute_input": "2023-01-15T13:03:51.875061Z",
     "iopub.status.busy": "2023-01-15T13:03:51.874269Z",
     "iopub.status.idle": "2023-01-15T13:03:51.881268Z",
     "shell.execute_reply": "2023-01-15T13:03:51.879985Z"
    },
    "papermill": {
     "duration": 0.023475,
     "end_time": "2023-01-15T13:03:51.883989",
     "exception": false,
     "start_time": "2023-01-15T13:03:51.860514",
     "status": "completed"
    },
    "tags": []
   },
   "outputs": [
    {
     "data": {
      "text/plain": [
       "(119040, 31)"
      ]
     },
     "execution_count": 16,
     "metadata": {},
     "output_type": "execute_result"
    }
   ],
   "source": [
    "df.shape"
   ]
  },
  {
   "cell_type": "code",
   "execution_count": 17,
   "id": "e8dc1429",
   "metadata": {
    "execution": {
     "iopub.execute_input": "2023-01-15T13:03:51.911135Z",
     "iopub.status.busy": "2023-01-15T13:03:51.910621Z",
     "iopub.status.idle": "2023-01-15T13:03:51.918363Z",
     "shell.execute_reply": "2023-01-15T13:03:51.917195Z"
    },
    "papermill": {
     "duration": 0.02419,
     "end_time": "2023-01-15T13:03:51.920583",
     "exception": false,
     "start_time": "2023-01-15T13:03:51.896393",
     "status": "completed"
    },
    "tags": []
   },
   "outputs": [
    {
     "data": {
      "text/plain": [
       "Index(['STA', 'Date', 'Precip', 'WindGustSpd', 'MaxTemp', 'MinTemp',\n",
       "       'MeanTemp', 'Snowfall', 'PoorWeather', 'YR', 'MO', 'DA', 'PRCP', 'DR',\n",
       "       'SPD', 'MAX', 'MIN', 'MEA', 'SNF', 'SND', 'FT', 'FB', 'FTI', 'ITH',\n",
       "       'PGT', 'TSHDSBRSGF', 'SD3', 'RHX', 'RHN', 'RVG', 'WTE'],\n",
       "      dtype='object')"
      ]
     },
     "execution_count": 17,
     "metadata": {},
     "output_type": "execute_result"
    }
   ],
   "source": [
    "df.columns"
   ]
  },
  {
   "cell_type": "code",
   "execution_count": 18,
   "id": "24c82650",
   "metadata": {
    "execution": {
     "iopub.execute_input": "2023-01-15T13:03:51.947459Z",
     "iopub.status.busy": "2023-01-15T13:03:51.946985Z",
     "iopub.status.idle": "2023-01-15T13:03:51.954744Z",
     "shell.execute_reply": "2023-01-15T13:03:51.953280Z"
    },
    "papermill": {
     "duration": 0.024777,
     "end_time": "2023-01-15T13:03:51.957730",
     "exception": false,
     "start_time": "2023-01-15T13:03:51.932953",
     "status": "completed"
    },
    "tags": []
   },
   "outputs": [],
   "source": [
    "X_train = df.iloc[:83329, 5]\n",
    "X_test = df.iloc[83329:, 5]\n",
    "Y_train = df.iloc[:83329, 4]\n",
    "Y_test = df.iloc[83329:, 4]"
   ]
  },
  {
   "cell_type": "code",
   "execution_count": 19,
   "id": "946ba092",
   "metadata": {
    "execution": {
     "iopub.execute_input": "2023-01-15T13:03:51.985247Z",
     "iopub.status.busy": "2023-01-15T13:03:51.983589Z",
     "iopub.status.idle": "2023-01-15T13:03:51.992053Z",
     "shell.execute_reply": "2023-01-15T13:03:51.990567Z"
    },
    "papermill": {
     "duration": 0.024424,
     "end_time": "2023-01-15T13:03:51.994642",
     "exception": false,
     "start_time": "2023-01-15T13:03:51.970218",
     "status": "completed"
    },
    "tags": []
   },
   "outputs": [
    {
     "name": "stdout",
     "output_type": "stream",
     "text": [
      "83329    20.000000\n",
      "83330    22.222222\n",
      "83331    17.222222\n",
      "83332    15.555556\n",
      "83333    15.000000\n",
      "83334    14.444444\n",
      "83335    15.000000\n",
      "83336    13.333333\n",
      "83337    14.444444\n",
      "83338    16.666667\n",
      "Name: MinTemp, dtype: float64\n",
      "83329\n"
     ]
    }
   ],
   "source": [
    "print(X_test[:10])\n",
    "print(len(X_train))"
   ]
  },
  {
   "cell_type": "code",
   "execution_count": 20,
   "id": "bc2728c2",
   "metadata": {
    "execution": {
     "iopub.execute_input": "2023-01-15T13:03:52.021087Z",
     "iopub.status.busy": "2023-01-15T13:03:52.020698Z",
     "iopub.status.idle": "2023-01-15T13:03:52.390846Z",
     "shell.execute_reply": "2023-01-15T13:03:52.389641Z"
    },
    "papermill": {
     "duration": 0.386797,
     "end_time": "2023-01-15T13:03:52.393778",
     "exception": false,
     "start_time": "2023-01-15T13:03:52.006981",
     "status": "completed"
    },
    "tags": []
   },
   "outputs": [
    {
     "data": {
      "image/png": "[encoded data removed]",
      "text/plain": [
       "<Figure size 432x288 with 1 Axes>"
      ]
     },
     "metadata": {
      "needs_background": "light"
     },
     "output_type": "display_data"
    }
   ],
   "source": [
    "plt.scatter(X_train, Y_train)\n",
    "plt.xlabel('X_train')\n",
    "plt.ylabel('Y_train')\n",
    "plt.show()"
   ]
  },
  {
   "cell_type": "code",
   "execution_count": 21,
   "id": "97c1350a",
   "metadata": {
    "execution": {
     "iopub.execute_input": "2023-01-15T13:03:52.423707Z",
     "iopub.status.busy": "2023-01-15T13:03:52.423279Z",
     "iopub.status.idle": "2023-01-15T13:03:52.431958Z",
     "shell.execute_reply": "2023-01-15T13:03:52.430582Z"
    },
    "papermill": {
     "duration": 0.026661,
     "end_time": "2023-01-15T13:03:52.434308",
     "exception": false,
     "start_time": "2023-01-15T13:03:52.407647",
     "status": "completed"
    },
    "tags": []
   },
   "outputs": [
    {
     "name": "stdout",
     "output_type": "stream",
     "text": [
      "17.846067995457428 27.073534490422233\n"
     ]
    }
   ],
   "source": [
    "# we have to find out the mean\n",
    "x_ = np.mean(X_train)\n",
    "y_ = np.mean(Y_train)\n",
    "print(x_, y_)"
   ]
  },
  {
   "cell_type": "code",
   "execution_count": 22,
   "id": "fd1e883c",
   "metadata": {
    "execution": {
     "iopub.execute_input": "2023-01-15T13:03:52.464093Z",
     "iopub.status.busy": "2023-01-15T13:03:52.463695Z",
     "iopub.status.idle": "2023-01-15T13:03:52.471166Z",
     "shell.execute_reply": "2023-01-15T13:03:52.470143Z"
    },
    "papermill": {
     "duration": 0.026533,
     "end_time": "2023-01-15T13:03:52.473390",
     "exception": false,
     "start_time": "2023-01-15T13:03:52.446857",
     "status": "completed"
    },
    "tags": []
   },
   "outputs": [],
   "source": [
    "def find_sploe(X, Y, x_, y_):\n",
    "    dem = 0\n",
    "    newm = 0\n",
    "    for i in range(len(X)):\n",
    "        dem += (X[i] - x_) * (Y[i] - y_)\n",
    "        newm += (X[i] - x_) ** 2\n",
    "    return dem / newm"
   ]
  },
  {
   "cell_type": "code",
   "execution_count": 23,
   "id": "0a26e498",
   "metadata": {
    "execution": {
     "iopub.execute_input": "2023-01-15T13:03:52.502409Z",
     "iopub.status.busy": "2023-01-15T13:03:52.501773Z",
     "iopub.status.idle": "2023-01-15T13:03:53.496369Z",
     "shell.execute_reply": "2023-01-15T13:03:53.494365Z"
    },
    "papermill": {
     "duration": 1.013093,
     "end_time": "2023-01-15T13:03:53.499972",
     "exception": false,
     "start_time": "2023-01-15T13:03:52.486879",
     "status": "completed"
    },
    "tags": []
   },
   "outputs": [
    {
     "name": "stdout",
     "output_type": "stream",
     "text": [
      "M :  0.9564942836256293\n",
      "c :  10.003872467572911\n"
     ]
    }
   ],
   "source": [
    "M = find_sploe(X_train, Y_train, x_, y_)\n",
    "print('M : ', M)\n",
    "\n",
    "# y = mx + c is the equation of line\n",
    "# and now we have to find out the y_intercept\n",
    "# we have one point (x_, y_) on line and sploe of line(M)\n",
    "c = y_ - M * x_ \n",
    "print(\"c : \",c)"
   ]
  },
  {
   "cell_type": "code",
   "execution_count": 24,
   "id": "7474e202",
   "metadata": {
    "execution": {
     "iopub.execute_input": "2023-01-15T13:03:53.529450Z",
     "iopub.status.busy": "2023-01-15T13:03:53.528937Z",
     "iopub.status.idle": "2023-01-15T13:03:53.558582Z",
     "shell.execute_reply": "2023-01-15T13:03:53.557085Z"
    },
    "papermill": {
     "duration": 0.047856,
     "end_time": "2023-01-15T13:03:53.561273",
     "exception": false,
     "start_time": "2023-01-15T13:03:53.513417",
     "status": "completed"
    },
    "tags": []
   },
   "outputs": [],
   "source": [
    "# y = M x + c\n",
    "# y_pred is predicted value for X_train\n",
    "y_pred = []\n",
    "for i in X_train:\n",
    "    y_pred.append(0.9564942836256293 * i + 10.003872467572915)\n",
    "    # print(i)"
   ]
  },
  {
   "cell_type": "code",
   "execution_count": 25,
   "id": "42e6886b",
   "metadata": {
    "execution": {
     "iopub.execute_input": "2023-01-15T13:03:53.589793Z",
     "iopub.status.busy": "2023-01-15T13:03:53.589373Z",
     "iopub.status.idle": "2023-01-15T13:03:53.611999Z",
     "shell.execute_reply": "2023-01-15T13:03:53.610679Z"
    },
    "papermill": {
     "duration": 0.040343,
     "end_time": "2023-01-15T13:03:53.615134",
     "exception": false,
     "start_time": "2023-01-15T13:03:53.574791",
     "status": "completed"
    },
    "tags": []
   },
   "outputs": [
    {
     "data": {
      "text/html": [
       "<div>\n",
       "<style scoped>\n",
       "    .dataframe tbody tr th:only-of-type {\n",
       "        vertical-align: middle;\n",
       "    }\n",
       "\n",
       "    .dataframe tbody tr th {\n",
       "        vertical-align: top;\n",
       "    }\n",
       "\n",
       "    .dataframe thead th {\n",
       "        text-align: right;\n",
       "    }\n",
       "</style>\n",
       "<table border=\"1\" class=\"dataframe\">\n",
       "  <thead>\n",
       "    <tr style=\"text-align: right;\">\n",
       "      <th></th>\n",
       "      <th>Actual</th>\n",
       "      <th>Predicted</th>\n",
       "    </tr>\n",
       "  </thead>\n",
       "  <tbody>\n",
       "    <tr>\n",
       "      <th>0</th>\n",
       "      <td>25.555556</td>\n",
       "      <td>31.259301</td>\n",
       "    </tr>\n",
       "    <tr>\n",
       "      <th>1</th>\n",
       "      <td>28.888889</td>\n",
       "      <td>30.727915</td>\n",
       "    </tr>\n",
       "    <tr>\n",
       "      <th>2</th>\n",
       "      <td>26.111111</td>\n",
       "      <td>31.259301</td>\n",
       "    </tr>\n",
       "    <tr>\n",
       "      <th>3</th>\n",
       "      <td>26.666667</td>\n",
       "      <td>31.259301</td>\n",
       "    </tr>\n",
       "    <tr>\n",
       "      <th>4</th>\n",
       "      <td>26.666667</td>\n",
       "      <td>30.727915</td>\n",
       "    </tr>\n",
       "  </tbody>\n",
       "</table>\n",
       "</div>"
      ],
      "text/plain": [
       "      Actual  Predicted\n",
       "0  25.555556  31.259301\n",
       "1  28.888889  30.727915\n",
       "2  26.111111  31.259301\n",
       "3  26.666667  31.259301\n",
       "4  26.666667  30.727915"
      ]
     },
     "execution_count": 25,
     "metadata": {},
     "output_type": "execute_result"
    }
   ],
   "source": [
    "df = pd.DataFrame({'Actual': Y_train, 'Predicted': y_pred})\n",
    "df.head()"
   ]
  },
  {
   "cell_type": "code",
   "execution_count": 26,
   "id": "08010542",
   "metadata": {
    "execution": {
     "iopub.execute_input": "2023-01-15T13:03:53.646299Z",
     "iopub.status.busy": "2023-01-15T13:03:53.644978Z",
     "iopub.status.idle": "2023-01-15T13:03:53.680105Z",
     "shell.execute_reply": "2023-01-15T13:03:53.678846Z"
    },
    "papermill": {
     "duration": 0.054501,
     "end_time": "2023-01-15T13:03:53.683311",
     "exception": false,
     "start_time": "2023-01-15T13:03:53.628810",
     "status": "completed"
    },
    "tags": []
   },
   "outputs": [
    {
     "name": "stdout",
     "output_type": "stream",
     "text": [
      "mean_squared_error : 17.316845926833135\n",
      "mean_squared_error : 17.316845926833587\n"
     ]
    },
    {
     "name": "stderr",
     "output_type": "stream",
     "text": [
      "/opt/conda/lib/python3.7/site-packages/ipykernel_launcher.py:1: DeprecationWarning: Calling np.sum(generator) is deprecated, and in the future will give a different result. Use np.sum(np.fromiter(generator)) or the python sum builtin instead.\n",
      "  \"\"\"Entry point for launching an IPython kernel.\n"
     ]
    }
   ],
   "source": [
    "mse = (1/len(X_train)) * np.sum(val ** 2 for val in (Y_train - (M*X_train + c)))\n",
    "print('mean_squared_error :',mse)\n",
    "print('mean_squared_error :',metrics.mean_squared_error(Y_train, y_pred))"
   ]
  },
  {
   "cell_type": "code",
   "execution_count": 27,
   "id": "6a00d2f8",
   "metadata": {
    "execution": {
     "iopub.execute_input": "2023-01-15T13:03:53.714448Z",
     "iopub.status.busy": "2023-01-15T13:03:53.713095Z",
     "iopub.status.idle": "2023-01-15T13:03:53.720411Z",
     "shell.execute_reply": "2023-01-15T13:03:53.719205Z"
    },
    "papermill": {
     "duration": 0.025713,
     "end_time": "2023-01-15T13:03:53.722824",
     "exception": false,
     "start_time": "2023-01-15T13:03:53.697111",
     "status": "completed"
    },
    "tags": []
   },
   "outputs": [],
   "source": [
    "# we will find the R2 = ?\n",
    "def find_score_r2(Y, y_pred, y_):\n",
    "    d = n = 0\n",
    "    i = 0\n",
    "    for j in Y:\n",
    "        d += (y_pred[i] - y_) ** 2\n",
    "        n += (j - y_) ** 2\n",
    "        i += 1\n",
    "    # d = np.sum(val ** 2 for val in (y_pred - y_))\n",
    "    # n = np.sum(val ** 2 for val in (Y - y_))\n",
    "    R2 = 1 - (d / n)\n",
    "\n",
    "    return R2"
   ]
  },
  {
   "cell_type": "code",
   "execution_count": 28,
   "id": "4cd6b0f6",
   "metadata": {
    "execution": {
     "iopub.execute_input": "2023-01-15T13:03:53.750990Z",
     "iopub.status.busy": "2023-01-15T13:03:53.750586Z",
     "iopub.status.idle": "2023-01-15T13:03:53.836659Z",
     "shell.execute_reply": "2023-01-15T13:03:53.835030Z"
    },
    "papermill": {
     "duration": 0.103809,
     "end_time": "2023-01-15T13:03:53.839630",
     "exception": false,
     "start_time": "2023-01-15T13:03:53.735821",
     "status": "completed"
    },
    "tags": []
   },
   "outputs": [
    {
     "name": "stdout",
     "output_type": "stream",
     "text": [
      "R2 :  0.20096813651817225\n"
     ]
    }
   ],
   "source": [
    "print(\"R2 : \", find_score_r2(Y_train, y_pred, y_))"
   ]
  },
  {
   "cell_type": "code",
   "execution_count": 29,
   "id": "27795a9c",
   "metadata": {
    "execution": {
     "iopub.execute_input": "2023-01-15T13:03:53.869842Z",
     "iopub.status.busy": "2023-01-15T13:03:53.869312Z",
     "iopub.status.idle": "2023-01-15T13:03:54.267492Z",
     "shell.execute_reply": "2023-01-15T13:03:54.266110Z"
    },
    "papermill": {
     "duration": 0.416297,
     "end_time": "2023-01-15T13:03:54.270578",
     "exception": false,
     "start_time": "2023-01-15T13:03:53.854281",
     "status": "completed"
    },
    "tags": []
   },
   "outputs": [
    {
     "data": {
      "image/png": "[encoded data removed]",
      "text/plain": [
       "<Figure size 432x288 with 1 Axes>"
      ]
     },
     "metadata": {
      "needs_background": "light"
     },
     "output_type": "display_data"
    }
   ],
   "source": [
    "plt.scatter(X_train, Y_train, color='green')\n",
    "plt.plot(X_train, y_pred, color='blue')\n",
    "plt.xlabel('X_train')\n",
    "plt.ylabel('Y_train')\n",
    "plt.grid()\n",
    "plt.show()"
   ]
  },
  {
   "cell_type": "markdown",
   "id": "1964d8e6",
   "metadata": {
    "papermill": {
     "duration": 0.012798,
     "end_time": "2023-01-15T13:03:54.297962",
     "exception": false,
     "start_time": "2023-01-15T13:03:54.285164",
     "status": "completed"
    },
    "tags": []
   },
   "source": [
    "# ****Gradient descent"
   ]
  },
  {
   "cell_type": "code",
   "execution_count": 30,
   "id": "30443e78",
   "metadata": {
    "execution": {
     "iopub.execute_input": "2023-01-15T13:03:54.326933Z",
     "iopub.status.busy": "2023-01-15T13:03:54.326207Z",
     "iopub.status.idle": "2023-01-15T13:03:54.334650Z",
     "shell.execute_reply": "2023-01-15T13:03:54.333530Z"
    },
    "papermill": {
     "duration": 0.026313,
     "end_time": "2023-01-15T13:03:54.337398",
     "exception": false,
     "start_time": "2023-01-15T13:03:54.311085",
     "status": "completed"
    },
    "tags": []
   },
   "outputs": [],
   "source": [
    "# we will find out the best fit line \n",
    "\n",
    "def gradient_descent(X, Y):\n",
    "    m_cur = c_cur = 0\n",
    "    iteration = 15000\n",
    "    n = len(X)\n",
    "    learning_rate = 0.002\n",
    "    \n",
    "    for i in range(iteration):\n",
    "        y_pred2 = m_cur * X + c_cur\n",
    "        mse = (1/n) * sum(val ** 2 for val in (Y - y_pred2))\n",
    "        md = - (2/n) * sum(X*(Y - y_pred2))\n",
    "        cd = -(2/n) * sum(Y - y_pred2)\n",
    "        \n",
    "        m_cur = m_cur - learning_rate * md\n",
    "        c_cur = c_cur - learning_rate * cd\n",
    "        \n",
    "        print(\"m {}, c {}, cost {}, iteration {}\".format(m_cur, c_cur, mse, i))"
   ]
  },
  {
   "cell_type": "code",
   "execution_count": 31,
   "id": "01feb474",
   "metadata": {
    "execution": {
     "iopub.execute_input": "2023-01-15T13:03:54.367326Z",
     "iopub.status.busy": "2023-01-15T13:03:54.366868Z",
     "iopub.status.idle": "2023-01-15T13:03:54.372144Z",
     "shell.execute_reply": "2023-01-15T13:03:54.370728Z"
    },
    "papermill": {
     "duration": 0.023814,
     "end_time": "2023-01-15T13:03:54.374841",
     "exception": false,
     "start_time": "2023-01-15T13:03:54.351027",
     "status": "completed"
    },
    "tags": []
   },
   "outputs": [],
   "source": [
    "# gradient_descent(X_train, Y_train)"
   ]
  },
  {
   "cell_type": "markdown",
   "id": "3db17c25",
   "metadata": {
    "papermill": {
     "duration": 0.014796,
     "end_time": "2023-01-15T13:03:54.404613",
     "exception": false,
     "start_time": "2023-01-15T13:03:54.389817",
     "status": "completed"
    },
    "tags": []
   },
   "source": [
    "gradient_descent(X, Y)\n",
    "Now i just predict values for X_test\n",
    "By using Y = (0.9564942836256293 * X) + 10.003872467572915"
   ]
  },
  {
   "cell_type": "code",
   "execution_count": 32,
   "id": "73a58c8d",
   "metadata": {
    "execution": {
     "iopub.execute_input": "2023-01-15T13:03:54.436594Z",
     "iopub.status.busy": "2023-01-15T13:03:54.435072Z",
     "iopub.status.idle": "2023-01-15T13:03:54.452548Z",
     "shell.execute_reply": "2023-01-15T13:03:54.451413Z"
    },
    "papermill": {
     "duration": 0.036277,
     "end_time": "2023-01-15T13:03:54.455743",
     "exception": false,
     "start_time": "2023-01-15T13:03:54.419466",
     "status": "completed"
    },
    "tags": []
   },
   "outputs": [],
   "source": [
    "y_pred3 = []\n",
    "for i in X_test:\n",
    "    y_pred3.append( (0.9564942836256293 * i) + 10.003872467572915)"
   ]
  },
  {
   "cell_type": "code",
   "execution_count": 33,
   "id": "ec59d1eb",
   "metadata": {
    "execution": {
     "iopub.execute_input": "2023-01-15T13:03:54.484914Z",
     "iopub.status.busy": "2023-01-15T13:03:54.484476Z",
     "iopub.status.idle": "2023-01-15T13:03:54.502605Z",
     "shell.execute_reply": "2023-01-15T13:03:54.501037Z"
    },
    "papermill": {
     "duration": 0.035754,
     "end_time": "2023-01-15T13:03:54.505083",
     "exception": false,
     "start_time": "2023-01-15T13:03:54.469329",
     "status": "completed"
    },
    "tags": []
   },
   "outputs": [
    {
     "data": {
      "text/html": [
       "<div>\n",
       "<style scoped>\n",
       "    .dataframe tbody tr th:only-of-type {\n",
       "        vertical-align: middle;\n",
       "    }\n",
       "\n",
       "    .dataframe tbody tr th {\n",
       "        vertical-align: top;\n",
       "    }\n",
       "\n",
       "    .dataframe thead th {\n",
       "        text-align: right;\n",
       "    }\n",
       "</style>\n",
       "<table border=\"1\" class=\"dataframe\">\n",
       "  <thead>\n",
       "    <tr style=\"text-align: right;\">\n",
       "      <th></th>\n",
       "      <th>Actual</th>\n",
       "      <th>Predicted</th>\n",
       "    </tr>\n",
       "  </thead>\n",
       "  <tbody>\n",
       "    <tr>\n",
       "      <th>83329</th>\n",
       "      <td>35.000000</td>\n",
       "      <td>29.133758</td>\n",
       "    </tr>\n",
       "    <tr>\n",
       "      <th>83330</th>\n",
       "      <td>35.000000</td>\n",
       "      <td>31.259301</td>\n",
       "    </tr>\n",
       "    <tr>\n",
       "      <th>83331</th>\n",
       "      <td>27.777778</td>\n",
       "      <td>26.476830</td>\n",
       "    </tr>\n",
       "    <tr>\n",
       "      <th>83332</th>\n",
       "      <td>26.666667</td>\n",
       "      <td>24.882672</td>\n",
       "    </tr>\n",
       "    <tr>\n",
       "      <th>83333</th>\n",
       "      <td>22.777778</td>\n",
       "      <td>24.351287</td>\n",
       "    </tr>\n",
       "  </tbody>\n",
       "</table>\n",
       "</div>"
      ],
      "text/plain": [
       "          Actual  Predicted\n",
       "83329  35.000000  29.133758\n",
       "83330  35.000000  31.259301\n",
       "83331  27.777778  26.476830\n",
       "83332  26.666667  24.882672\n",
       "83333  22.777778  24.351287"
      ]
     },
     "execution_count": 33,
     "metadata": {},
     "output_type": "execute_result"
    }
   ],
   "source": [
    "df2 = pd.DataFrame({'Actual': Y_test, 'Predicted': y_pred3})\n",
    "df2.head()"
   ]
  },
  {
   "cell_type": "code",
   "execution_count": 34,
   "id": "36b22e16",
   "metadata": {
    "execution": {
     "iopub.execute_input": "2023-01-15T13:03:54.535155Z",
     "iopub.status.busy": "2023-01-15T13:03:54.534480Z",
     "iopub.status.idle": "2023-01-15T13:03:54.556765Z",
     "shell.execute_reply": "2023-01-15T13:03:54.555353Z"
    },
    "papermill": {
     "duration": 0.040634,
     "end_time": "2023-01-15T13:03:54.560018",
     "exception": false,
     "start_time": "2023-01-15T13:03:54.519384",
     "status": "completed"
    },
    "tags": []
   },
   "outputs": [
    {
     "name": "stdout",
     "output_type": "stream",
     "text": [
      "mean_squared_error : 17.797347984629788\n",
      "mean_squared_error : 17.797347984629933\n"
     ]
    },
    {
     "name": "stderr",
     "output_type": "stream",
     "text": [
      "/opt/conda/lib/python3.7/site-packages/ipykernel_launcher.py:1: DeprecationWarning: Calling np.sum(generator) is deprecated, and in the future will give a different result. Use np.sum(np.fromiter(generator)) or the python sum builtin instead.\n",
      "  \"\"\"Entry point for launching an IPython kernel.\n"
     ]
    }
   ],
   "source": [
    "mse = (1/len(X_test)) * np.sum(val ** 2 for val in (Y_test - (0.9564942836256293*X_test + 10.003872467572915)))\n",
    "print('mean_squared_error :',mse)\n",
    "print('mean_squared_error :',metrics.mean_squared_error(Y_test, y_pred3))"
   ]
  },
  {
   "cell_type": "code",
   "execution_count": 35,
   "id": "6d3c75df",
   "metadata": {
    "execution": {
     "iopub.execute_input": "2023-01-15T13:03:54.591642Z",
     "iopub.status.busy": "2023-01-15T13:03:54.591252Z",
     "iopub.status.idle": "2023-01-15T13:03:54.637143Z",
     "shell.execute_reply": "2023-01-15T13:03:54.635833Z"
    },
    "papermill": {
     "duration": 0.065414,
     "end_time": "2023-01-15T13:03:54.639665",
     "exception": false,
     "start_time": "2023-01-15T13:03:54.574251",
     "status": "completed"
    },
    "tags": []
   },
   "outputs": [
    {
     "name": "stdout",
     "output_type": "stream",
     "text": [
      "R2 : 0.0206503724879743\n"
     ]
    }
   ],
   "source": [
    "print('R2 :',find_score_r2(Y_test, y_pred3, y_))"
   ]
  },
  {
   "cell_type": "code",
   "execution_count": 36,
   "id": "16f9ef3d",
   "metadata": {
    "execution": {
     "iopub.execute_input": "2023-01-15T13:03:54.671902Z",
     "iopub.status.busy": "2023-01-15T13:03:54.670637Z",
     "iopub.status.idle": "2023-01-15T13:03:54.955472Z",
     "shell.execute_reply": "2023-01-15T13:03:54.954059Z"
    },
    "papermill": {
     "duration": 0.303441,
     "end_time": "2023-01-15T13:03:54.958054",
     "exception": false,
     "start_time": "2023-01-15T13:03:54.654613",
     "status": "completed"
    },
    "tags": []
   },
   "outputs": [
    {
     "data": {
      "image/png": "[encoded data removed]",
      "text/plain": [
       "<Figure size 432x288 with 1 Axes>"
      ]
     },
     "metadata": {
      "needs_background": "light"
     },
     "output_type": "display_data"
    }
   ],
   "source": [
    "plt.scatter(X_test, Y_test, color='green')\n",
    "plt.plot(X_test, y_pred3, color='blue')\n",
    "plt.xlabel('X_test')\n",
    "plt.ylabel('y_test')\n",
    "plt.show()\n",
    "\n",
    "# blue line is predicted point (y_pred3)"
   ]
  },
  {
   "cell_type": "code",
   "execution_count": null,
   "id": "147af8d8",
   "metadata": {
    "papermill": {
     "duration": 0.014729,
     "end_time": "2023-01-15T13:03:54.987144",
     "exception": false,
     "start_time": "2023-01-15T13:03:54.972415",
     "status": "completed"
    },
    "tags": []
   },
   "outputs": [],
   "source": []
  }
 ],
 "metadata": {
  "kernelspec": {
   "display_name": "Python 3",
   "language": "python",
   "name": "python3"
  },
  "language_info": {
   "codemirror_mode": {
    "name": "ipython",
    "version": 3
   },
   "file_extension": ".py",
   "mimetype": "text/x-python",
   "name": "python",
   "nbconvert_exporter": "python",
   "pygments_lexer": "ipython3",
   "version": "3.7.12"
  },
  "papermill": {
   "default_parameters": {},
   "duration": 16.947438,
   "end_time": "2023-01-15T13:03:55.824865",
   "environment_variables": {},
   "exception": null,
   "input_path": "__notebook__.ipynb",
   "output_path": "__notebook__.ipynb",
   "parameters": {},
   "start_time": "2023-01-15T13:03:38.877427",
   "version": "2.3.4"
  }
 },
 "nbformat": 4,
 "nbformat_minor": 5
}
