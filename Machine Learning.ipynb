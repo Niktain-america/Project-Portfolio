{
 "cells": [
  {
   "cell_type": "code",
   "execution_count": 27,
   "metadata": {},
   "outputs": [
    {
     "name": "stdout",
     "output_type": "stream",
     "text": [
      "hello world!\n"
     ]
    }
   ],
   "source": [
    "print('hello world!')"
   ]
  },
  {
   "cell_type": "code",
   "execution_count": 12,
   "metadata": {},
   "outputs": [
    {
     "name": "stdout",
     "output_type": "stream",
     "text": [
      "Hello World\n",
      "Hel\n",
      "W\n",
      "lW\n"
     ]
    }
   ],
   "source": [
    "x=\"Hello\" \n",
    "y=\"World\"\n",
    "print(x+' '+y)\n",
    "print(x[:3])\n",
    "print(y[:1])\n",
    "print(y[3]+y[0])\n"
   ]
  },
  {
   "cell_type": "code",
   "execution_count": 29,
   "metadata": {},
   "outputs": [
    {
     "name": "stdout",
     "output_type": "stream",
     "text": [
      "12\n",
      "4\n",
      "2.0\n",
      "32\n",
      "4096\n",
      "16777216\n"
     ]
    }
   ],
   "source": [
    "x1=8\n",
    "x2=4\n",
    "print(x1+x2)\n",
    "print(x1-x2)\n",
    "print(x1/x2)\n",
    "print(x1*x2)\n",
    "print(x1**x2)\n",
    "print(x1**x1)"
   ]
  },
  {
   "cell_type": "code",
   "execution_count": 25,
   "metadata": {},
   "outputs": [
    {
     "name": "stdout",
     "output_type": "stream",
     "text": [
      "35\n"
     ]
    }
   ],
   "source": [
    "x='3'\n",
    "y='5'\n",
    "print(x+y)"
   ]
  },
  {
   "cell_type": "code",
   "execution_count": 16,
   "metadata": {},
   "outputs": [
    {
     "name": "stdout",
     "output_type": "stream",
     "text": [
      "Hello World\n",
      "He\n",
      "llo World\n",
      "Hello WorldHello World\n",
      "H\n",
      "llo\n",
      "Hello World To You \n"
     ]
    }
   ],
   "source": [
    "str='Hello World'\n",
    "print(str)\n",
    "print(str[:2])\n",
    "print(str[2:])\n",
    "print(str * 2)\n",
    "print(str[0])\n",
    "print(str[2:5])\n",
    "print(str+ \" To You \")\n"
   ]
  },
  {
   "cell_type": "code",
   "execution_count": 6,
   "metadata": {},
   "outputs": [
    {
     "name": "stdout",
     "output_type": "stream",
     "text": [
      "Hello\n",
      "HELLO\n",
      "11\n",
      "False\n",
      "True\n",
      "hello\n"
     ]
    }
   ],
   "source": [
    "print(str.capitalize('hello'))\n",
    "s='hello'\n",
    "print(s.upper())\n",
    "str1='hello world'\n",
    "print(len(str1))\n",
    "str2='h123'\n",
    "str3='123'\n",
    "print(str2.isdigit())\n",
    "print(str3.isdigit())\n",
    "print(str2.replace('123','ello'))\n"
   ]
  },
  {
   "cell_type": "code",
   "execution_count": 17,
   "metadata": {},
   "outputs": [
    {
     "name": "stdout",
     "output_type": "stream",
     "text": [
      "Nikhil\n",
      "MY NAME IS NIKHIL SINGH\n",
      "False\n",
      "True\n",
      "Nikhil\n"
     ]
    }
   ],
   "source": [
    "print(str.capitalize('nikhil'))\n",
    "s='my name is Nikhil singh'\n",
    "print(s.upper())\n",
    "str1='Nikh10'\n",
    "str2='2345'\n",
    "print(str1.isdigit())\n",
    "print(str2.isdigit())\n",
    "print(str1.replace('10','il'))"
   ]
  },
  {
   "cell_type": "code",
   "execution_count": 19,
   "metadata": {},
   "outputs": [
    {
     "name": "stdout",
     "output_type": "stream",
     "text": [
      "<class 'int'>\n",
      "<class 'float'>\n",
      "<class 'str'>\n",
      "<class 'bool'>\n"
     ]
    }
   ],
   "source": [
    "a=2\n",
    "b=4.00\n",
    "c='hello'\n",
    "d=True\n",
    "print(type(a))\n",
    "print(type(b))\n",
    "print(type(c))\n",
    "print(type(d))"
   ]
  },
  {
   "cell_type": "code",
   "execution_count": 29,
   "metadata": {},
   "outputs": [
    {
     "name": "stdout",
     "output_type": "stream",
     "text": [
      "Age of x is10\n"
     ]
    }
   ],
   "source": [
    "x='10'\n",
    "print('Age of x is'  +x)"
   ]
  },
  {
   "cell_type": "code",
   "execution_count": 2,
   "metadata": {},
   "outputs": [
    {
     "name": "stdout",
     "output_type": "stream",
     "text": [
      "2Hello\n"
     ]
    }
   ],
   "source": [
    "x=2\n",
    "y='Hello'\n",
    "print(str(x)+y)"
   ]
  },
  {
   "cell_type": "code",
   "execution_count": 3,
   "metadata": {},
   "outputs": [
    {
     "name": "stdout",
     "output_type": "stream",
     "text": [
      "<class 'list'>\n"
     ]
    }
   ],
   "source": [
    "x=[]\n",
    "print(type(x))"
   ]
  },
  {
   "cell_type": "code",
   "execution_count": 4,
   "metadata": {},
   "outputs": [
    {
     "name": "stdout",
     "output_type": "stream",
     "text": [
      "[1, 2, 3, 'Apple', 'Money']\n"
     ]
    }
   ],
   "source": [
    "x=[1,2,3,'Apple','Money']\n",
    "print(x)"
   ]
  },
  {
   "cell_type": "code",
   "execution_count": 10,
   "metadata": {},
   "outputs": [
    {
     "name": "stdout",
     "output_type": "stream",
     "text": [
      "[1, 2, 3, 4, 5, 6]\n",
      "[1, 2, 3, 4, 5, 6, 8]\n",
      "[8, 6, 5, 4, 3, 2, 1]\n"
     ]
    }
   ],
   "source": [
    "x=[1,2,3,4,5]\n",
    "x.append(6)\n",
    "print(x)\n",
    "x.append(8)\n",
    "print(x)\n",
    "x.reverse()\n",
    "print(x)"
   ]
  },
  {
   "cell_type": "code",
   "execution_count": 9,
   "metadata": {},
   "outputs": [
    {
     "name": "stdout",
     "output_type": "stream",
     "text": [
      "[1, 6, 2, 3, 4, 5]\n"
     ]
    }
   ],
   "source": [
    "x=[1,2,3,4,5]\n",
    "x.insert(1,6)\n",
    "print(x)"
   ]
  },
  {
   "cell_type": "code",
   "execution_count": 14,
   "metadata": {},
   "outputs": [
    {
     "name": "stdout",
     "output_type": "stream",
     "text": [
      "[2, 3, 4, 5]\n"
     ]
    }
   ],
   "source": [
    "x=[1,2,3,4,5]\n",
    "x.remove(1)\n",
    "print(x)"
   ]
  },
  {
   "cell_type": "code",
   "execution_count": 19,
   "metadata": {},
   "outputs": [
    {
     "name": "stdout",
     "output_type": "stream",
     "text": [
      "[1, 3, 4, 5]\n"
     ]
    }
   ],
   "source": [
    "x=[1,2,3,4,5]\n",
    "del x[1]\n",
    "print(x)"
   ]
  },
  {
   "cell_type": "code",
   "execution_count": 32,
   "metadata": {},
   "outputs": [
    {
     "name": "stdout",
     "output_type": "stream",
     "text": [
      "{'Apple': 12, 'Banana': 15, 'Orange': 20}\n",
      "20\n",
      "dict_keys(['Apple', 'Banana', 'Orange'])\n",
      "dict_values([12, 15, 20])\n",
      "3\n",
      "{'Apple': 12, 'Banana': 15}\n"
     ]
    },
    {
     "data": {
      "text/plain": [
       "{'Apple': 25, 'Banana': 15, 'Strawberry': 24}"
      ]
     },
     "execution_count": 32,
     "metadata": {},
     "output_type": "execute_result"
    }
   ],
   "source": [
    "a={'Apple':12, 'Banana':15, 'Orange':20}\n",
    "print(a)\n",
    "print(a['Orange'])\n",
    "print(a.keys())\n",
    "print(a.values())\n",
    "print(len(a))\n",
    "del a['Orange']\n",
    "print(a)\n",
    "a['Strawberry']=24\n",
    "a\n",
    "a['Apple']=25\n",
    "a\n"
   ]
  },
  {
   "cell_type": "code",
   "execution_count": 4,
   "metadata": {},
   "outputs": [
    {
     "name": "stdout",
     "output_type": "stream",
     "text": [
      "Total Sum is: 0\n",
      "Total Sum is: 2\n",
      "Total Sum is: 2\n",
      "Total Sum is: 6\n",
      "Total Sum is: 6\n",
      "Total Sum is: 12\n",
      "Total Sum is: 12\n",
      "Total Sum is: 20\n",
      "Total Sum is: 20\n",
      "Total Sum is: 30\n",
      "Total Sum is: 30\n",
      "Total Sum is: 42\n",
      "Total Sum is: 42\n",
      "Total Sum is: 56\n",
      "Total Sum is: 56\n",
      "Total Sum is: 72\n",
      "Total Sum is: 72\n",
      "Total Sum is: 90\n",
      "Total Sum is: 90\n",
      "Total Sum is: 110\n",
      "Total Sum is: 110\n",
      "Total Sum is: 132\n",
      "Total Sum is: 132\n",
      "Total Sum is: 156\n",
      "Total Sum is: 156\n",
      "Total Sum is: 182\n",
      "Total Sum is: 182\n",
      "Total Sum is: 210\n",
      "Total Sum is: 210\n",
      "Total Sum is: 240\n",
      "Total Sum is: 240\n",
      "Total Sum is: 272\n",
      "Total Sum is: 272\n",
      "Total Sum is: 306\n",
      "Total Sum is: 306\n",
      "Total Sum is: 342\n",
      "Total Sum is: 342\n",
      "Total Sum is: 380\n",
      "Total Sum is: 380\n",
      "Total Sum is: 420\n",
      "Total Sum is: 420\n",
      "Total Sum is: 462\n",
      "Total Sum is: 462\n",
      "Total Sum is: 506\n",
      "Total Sum is: 506\n",
      "Total Sum is: 552\n",
      "Total Sum is: 552\n",
      "Total Sum is: 600\n",
      "Total Sum is: 600\n",
      "Total Sum is: 650\n",
      "Total Sum is: 650\n",
      "Total Sum is: 702\n",
      "Total Sum is: 702\n",
      "Total Sum is: 756\n",
      "Total Sum is: 756\n",
      "Total Sum is: 812\n",
      "Total Sum is: 812\n",
      "Total Sum is: 870\n",
      "Total Sum is: 870\n",
      "Total Sum is: 930\n",
      "Total Sum is: 930\n",
      "Total Sum is: 992\n",
      "Total Sum is: 992\n",
      "Total Sum is: 1056\n",
      "Total Sum is: 1056\n",
      "Total Sum is: 1122\n",
      "Total Sum is: 1122\n",
      "Total Sum is: 1190\n",
      "Total Sum is: 1190\n",
      "Total Sum is: 1260\n",
      "Total Sum is: 1260\n",
      "Total Sum is: 1332\n",
      "Total Sum is: 1332\n",
      "Total Sum is: 1406\n",
      "Total Sum is: 1406\n",
      "Total Sum is: 1482\n",
      "Total Sum is: 1482\n",
      "Total Sum is: 1560\n",
      "Total Sum is: 1560\n",
      "Total Sum is: 1640\n",
      "Total Sum is: 1640\n",
      "Total Sum is: 1722\n",
      "Total Sum is: 1722\n",
      "Total Sum is: 1806\n",
      "Total Sum is: 1806\n",
      "Total Sum is: 1892\n",
      "Total Sum is: 1892\n",
      "Total Sum is: 1980\n",
      "Total Sum is: 1980\n",
      "Total Sum is: 2070\n",
      "Total Sum is: 2070\n",
      "Total Sum is: 2162\n",
      "Total Sum is: 2162\n",
      "Total Sum is: 2256\n",
      "Total Sum is: 2256\n",
      "Total Sum is: 2352\n",
      "Total Sum is: 2352\n",
      "Total Sum is: 2450\n",
      "Total Sum is: 2450\n",
      "Total Sum is: 2550\n"
     ]
    }
   ],
   "source": [
    "i=1\n",
    "c=0\n",
    "while i<=100:\n",
    "    if i%2==0:\n",
    "        c=c+i\n",
    "    i=i+1\n",
    "    print('Total Sum is: '+ str(c))"
   ]
  },
  {
   "cell_type": "code",
   "execution_count": 8,
   "metadata": {},
   "outputs": [
    {
     "name": "stdout",
     "output_type": "stream",
     "text": [
      "0\n",
      "1\n",
      "2\n",
      "3\n",
      "4\n"
     ]
    }
   ],
   "source": [
    "numsequence=range(5)\n",
    "\n",
    "for i in numsequence:\n",
    "    print (i)"
   ]
  },
  {
   "cell_type": "code",
   "execution_count": 11,
   "metadata": {},
   "outputs": [
    {
     "name": "stdout",
     "output_type": "stream",
     "text": [
      "Current alphabet is:A\n",
      "Current alphabet is:B\n",
      "Current alphabet is:C\n",
      "Current alphabet is:D\n",
      "Current alphabet is:E\n"
     ]
    }
   ],
   "source": [
    "list1=['A','B','C','D','E']\n",
    "\n",
    "for i in range(len(list1)):\n",
    "    print('Current alphabet is:'+list1[i] )"
   ]
  },
  {
   "cell_type": "code",
   "execution_count": 14,
   "metadata": {},
   "outputs": [
    {
     "name": "stdout",
     "output_type": "stream",
     "text": [
      "A\n",
      "B\n",
      "C\n",
      "D\n",
      "E\n"
     ]
    }
   ],
   "source": [
    "list1=['A','B','C','D','E']\n",
    "for i in list1:\n",
    "    print (i)\n",
    "\n"
   ]
  },
  {
   "cell_type": "code",
   "execution_count": 26,
   "metadata": {},
   "outputs": [
    {
     "ename": "TypeError",
     "evalue": "'tuple' object is not callable",
     "output_type": "error",
     "traceback": [
      "\u001b[1;31m---------------------------------------------------------------------------\u001b[0m",
      "\u001b[1;31mTypeError\u001b[0m                                 Traceback (most recent call last)",
      "\u001b[1;32m<ipython-input-26-b12e53f1ad73>\u001b[0m in \u001b[0;36m<module>\u001b[1;34m()\u001b[0m\n\u001b[0;32m      1\u001b[0m \u001b[0mX\u001b[0m\u001b[1;33m=\u001b[0m\u001b[1;33m(\u001b[0m\u001b[1;36m1\u001b[0m\u001b[1;33m,\u001b[0m\u001b[1;36m2\u001b[0m\u001b[1;33m,\u001b[0m\u001b[1;36m3\u001b[0m\u001b[1;33m,\u001b[0m\u001b[1;36m4\u001b[0m\u001b[1;33m,\u001b[0m\u001b[1;36m5\u001b[0m\u001b[1;33m)\u001b[0m\u001b[1;33m\u001b[0m\u001b[0m\n\u001b[0;32m      2\u001b[0m \u001b[1;32mfor\u001b[0m \u001b[0mi\u001b[0m \u001b[1;32min\u001b[0m \u001b[0mrange\u001b[0m\u001b[1;33m(\u001b[0m\u001b[1;36m5\u001b[0m\u001b[1;33m)\u001b[0m\u001b[1;33m:\u001b[0m\u001b[1;33m\u001b[0m\u001b[0m\n\u001b[1;32m----> 3\u001b[1;33m     \u001b[0mprint\u001b[0m\u001b[1;33m(\u001b[0m\u001b[1;34m\"X \"\u001b[0m\u001b[1;33m+\u001b[0m\u001b[0mX\u001b[0m\u001b[1;33m(\u001b[0m\u001b[0mi\u001b[0m\u001b[1;33m)\u001b[0m\u001b[1;33m)\u001b[0m\u001b[1;33m\u001b[0m\u001b[0m\n\u001b[0m",
      "\u001b[1;31mTypeError\u001b[0m: 'tuple' object is not callable"
     ]
    }
   ],
   "source": [
    "X=(1,2,3,4,5)\n",
    "for i in range(5):\n",
    "    print(\"X \"+X(i))"
   ]
  },
  {
   "cell_type": "code",
   "execution_count": 3,
   "metadata": {},
   "outputs": [
    {
     "name": "stdout",
     "output_type": "stream",
     "text": [
      "1\n",
      "2\n",
      "3\n",
      "4\n",
      "5\n",
      "6\n",
      "7\n",
      "8\n"
     ]
    }
   ],
   "source": [
    "c=1\n",
    "while c<10:\n",
    "    print(c)\n",
    "     \n",
    "    if c==8:\n",
    "        break\n",
    "    c=c+1    "
   ]
  },
  {
   "cell_type": "code",
   "execution_count": null,
   "metadata": {},
   "outputs": [],
   "source": [
    "c=0\n",
    "\n",
    "while c<10:\n",
    "    c=c+1\n",
    "    if c==8:\n",
    "        continue\n",
    "\n",
    "    print(c)\n",
    "    \n",
    "    \n",
    "    \n"
   ]
  },
  {
   "cell_type": "code",
   "execution_count": 10,
   "metadata": {},
   "outputs": [
    {
     "name": "stdout",
     "output_type": "stream",
     "text": [
      "120\n"
     ]
    }
   ],
   "source": [
    "i=5\n",
    "c=i\n",
    "while i>1:\n",
    "    i=i-1\n",
    "    c=c*i\n",
    "print(c)\n",
    "    "
   ]
  },
  {
   "cell_type": "code",
   "execution_count": 21,
   "metadata": {},
   "outputs": [
    {
     "name": "stdout",
     "output_type": "stream",
     "text": [
      "0\n",
      "1\n",
      "2\n",
      "3\n",
      "4\n",
      "5\n",
      "6\n",
      "7\n",
      "8\n",
      "9\n",
      "10\n"
     ]
    }
   ],
   "source": [
    "c=0\n",
    "\n",
    "while c<20:\n",
    "    print(c)\n",
    "        \n",
    "    if c==10:\n",
    "        break\n",
    "    c=c+1\n",
    "        \n",
    "        \n"
   ]
  },
  {
   "cell_type": "code",
   "execution_count": 24,
   "metadata": {},
   "outputs": [
    {
     "name": "stdout",
     "output_type": "stream",
     "text": [
      "2\n",
      "4\n",
      "6\n",
      "8\n",
      "10\n"
     ]
    }
   ],
   "source": [
    "c=2\n",
    "while c<16:\n",
    "    print(c)\n",
    "    \n",
    "    if c==10:\n",
    "        break\n",
    "    c=c+2"
   ]
  },
  {
   "cell_type": "code",
   "execution_count": null,
   "metadata": {},
   "outputs": [],
   "source": []
  },
  {
   "cell_type": "code",
   "execution_count": 1,
   "metadata": {},
   "outputs": [
    {
     "name": "stdout",
     "output_type": "stream",
     "text": [
      "2\n",
      "4\n",
      "6\n",
      "8\n",
      "12\n",
      "14\n",
      "16\n",
      "18\n",
      "20\n"
     ]
    },
    {
     "name": "stderr",
     "output_type": "stream",
     "text": [
      "C:\\Users\\ser\\Anaconda3\\lib\\site-packages\\ipykernel\\parentpoller.py:116: UserWarning: Parent poll failed.  If the frontend dies,\n",
      "                the kernel may be left running.  Please let us know\n",
      "                about your system (bitness, Python, etc.) at\n",
      "                ipython-dev@scipy.org\n",
      "  ipython-dev@scipy.org\"\"\")\n"
     ]
    }
   ],
   "source": [
    "c=0 \n",
    "while c<20:\n",
    "    c=c+2\n",
    "    if c==10:\n",
    "        continue\n",
    "        \n",
    "    print(c)"
   ]
  },
  {
   "cell_type": "code",
   "execution_count": 2,
   "metadata": {},
   "outputs": [
    {
     "name": "stdout",
     "output_type": "stream",
     "text": [
      "1\n",
      "2\n",
      "3\n",
      "4\n",
      "5\n"
     ]
    }
   ],
   "source": [
    "c=1\n",
    "while c<30:\n",
    "    print(c)\n",
    "    if c==5:\n",
    "        break\n",
    "    c=c+1"
   ]
  },
  {
   "cell_type": "code",
   "execution_count": 4,
   "metadata": {},
   "outputs": [
    {
     "name": "stdout",
     "output_type": "stream",
     "text": [
      "3\n",
      "6\n",
      "12\n",
      "15\n"
     ]
    }
   ],
   "source": [
    "c=0\n",
    "while c<15:\n",
    "    c=c+3\n",
    "    if c==9:\n",
    "        continue\n",
    "    print(c)"
   ]
  },
  {
   "cell_type": "code",
   "execution_count": 1,
   "metadata": {},
   "outputs": [
    {
     "name": "stdout",
     "output_type": "stream",
     "text": [
      "24\n",
      "32\n",
      "40\n",
      "48\n",
      "56\n",
      "64\n",
      "72\n",
      "80\n"
     ]
    }
   ],
   "source": [
    "c=8\n",
    "while c<80:\n",
    "    c=c+8\n",
    "    if c==16:\n",
    "        continue\n",
    "    print(c)\n",
    "    "
   ]
  },
  {
   "cell_type": "code",
   "execution_count": 4,
   "metadata": {},
   "outputs": [
    {
     "name": "stdout",
     "output_type": "stream",
     "text": [
      "10\n",
      "20\n",
      "30\n",
      "40\n",
      "50\n",
      "60\n",
      "70\n",
      "80\n",
      "90\n",
      "100\n"
     ]
    }
   ],
   "source": [
    "c=10\n",
    "while c<120:\n",
    "    print(c)\n",
    "    if c==100:\n",
    "        break\n",
    "    c=c+10"
   ]
  },
  {
   "cell_type": "code",
   "execution_count": 6,
   "metadata": {},
   "outputs": [
    {
     "name": "stdout",
     "output_type": "stream",
     "text": [
      "10\n",
      "20\n",
      "30\n",
      "40\n",
      "50\n",
      "60\n",
      "70\n",
      "80\n",
      "90\n",
      "110\n",
      "120\n"
     ]
    }
   ],
   "source": [
    "c=0\n",
    "while c<120:\n",
    "    c=c+10\n",
    "    if c==100:\n",
    "        continue\n",
    "    print(c)"
   ]
  },
  {
   "cell_type": "code",
   "execution_count": 5,
   "metadata": {},
   "outputs": [
    {
     "ename": "SyntaxError",
     "evalue": "invalid syntax (<ipython-input-5-cd91fbaffea2>, line 6)",
     "output_type": "error",
     "traceback": [
      "\u001b[1;36m  File \u001b[1;32m\"<ipython-input-5-cd91fbaffea2>\"\u001b[1;36m, line \u001b[1;32m6\u001b[0m\n\u001b[1;33m    i++\u001b[0m\n\u001b[1;37m       ^\u001b[0m\n\u001b[1;31mSyntaxError\u001b[0m\u001b[1;31m:\u001b[0m invalid syntax\n"
     ]
    }
   ],
   "source": [
    "i=1\n",
    "f=1\n",
    "n=2\n",
    "while(i<=n):\n",
    "    f=f*i\n",
    "    i++\n",
    "print(f)"
   ]
  },
  {
   "cell_type": "code",
   "execution_count": 8,
   "metadata": {},
   "outputs": [
    {
     "name": "stdout",
     "output_type": "stream",
     "text": [
      "720\n"
     ]
    }
   ],
   "source": [
    "i=6\n",
    "c=6\n",
    "while i>1:\n",
    "    i-=1\n",
    "    c*=i\n",
    "print(c)"
   ]
  },
  {
   "cell_type": "code",
   "execution_count": 22,
   "metadata": {},
   "outputs": [
    {
     "name": "stdout",
     "output_type": "stream",
     "text": [
      "2\n"
     ]
    }
   ],
   "source": [
    "i=2\n",
    "c=i\n",
    "while i>1:\n",
    "    i-=1\n",
    "    c*=i\n",
    "print(c)"
   ]
  },
  {
   "cell_type": "code",
   "execution_count": 23,
   "metadata": {},
   "outputs": [
    {
     "name": "stdout",
     "output_type": "stream",
     "text": [
      "120\n"
     ]
    }
   ],
   "source": [
    "i=5\n",
    "c=i\n",
    "while i>1:\n",
    "    i-=1\n",
    "    c*=i\n",
    "print(c)"
   ]
  },
  {
   "cell_type": "code",
   "execution_count": 25,
   "metadata": {},
   "outputs": [
    {
     "ename": "TypeError",
     "evalue": "bad operand type for unary +: 'str'",
     "output_type": "error",
     "traceback": [
      "\u001b[1;31m---------------------------------------------------------------------------\u001b[0m",
      "\u001b[1;31mTypeError\u001b[0m                                 Traceback (most recent call last)",
      "\u001b[1;32m<ipython-input-25-31b24c84b6fa>\u001b[0m in \u001b[0;36m<module>\u001b[1;34m()\u001b[0m\n\u001b[0;32m      3\u001b[0m \u001b[1;32mfor\u001b[0m \u001b[0mi\u001b[0m \u001b[1;32min\u001b[0m \u001b[0mrange\u001b[0m\u001b[1;33m(\u001b[0m\u001b[1;36m1\u001b[0m\u001b[1;33m,\u001b[0m\u001b[0mc\u001b[0m\u001b[1;33m+\u001b[0m\u001b[1;36m1\u001b[0m\u001b[1;33m)\u001b[0m\u001b[1;33m:\u001b[0m\u001b[1;33m\u001b[0m\u001b[0m\n\u001b[0;32m      4\u001b[0m     \u001b[0mfactorial\u001b[0m\u001b[1;33m=\u001b[0m\u001b[0mfactorial\u001b[0m\u001b[1;33m*\u001b[0m\u001b[0mi\u001b[0m\u001b[1;33m\u001b[0m\u001b[0m\n\u001b[1;32m----> 5\u001b[1;33m \u001b[0mprint\u001b[0m\u001b[1;33m(\u001b[0m\u001b[1;34m'The factorial of '\u001b[0m\u001b[1;33m+\u001b[0m \u001b[0mstr\u001b[0m\u001b[1;33m(\u001b[0m\u001b[0mc\u001b[0m\u001b[1;33m)\u001b[0m\u001b[1;32mis\u001b[0m\u001b[1;33m+\u001b[0m\u001b[0mstr\u001b[0m\u001b[1;33m(\u001b[0m\u001b[0mfactorial\u001b[0m\u001b[1;33m)\u001b[0m\u001b[1;33m)\u001b[0m\u001b[1;33m\u001b[0m\u001b[0m\n\u001b[0m",
      "\u001b[1;31mTypeError\u001b[0m: bad operand type for unary +: 'str'"
     ]
    }
   ],
   "source": [
    "c=4\n",
    "factorial=1\n",
    "for i in range(1,c+1):\n",
    "    factorial=factorial*i\n",
    "print('The factorial of '+ str(c)is+ str(factorial))"
   ]
  },
  {
   "cell_type": "code",
   "execution_count": null,
   "metadata": {},
   "outputs": [],
   "source": []
  }
 ],
 "metadata": {
  "kernelspec": {
   "display_name": "Python 3",
   "language": "python",
   "name": "python3"
  },
  "language_info": {
   "codemirror_mode": {
    "name": "ipython",
    "version": 3
   },
   "file_extension": ".py",
   "mimetype": "text/x-python",
   "name": "python",
   "nbconvert_exporter": "python",
   "pygments_lexer": "ipython3",
   "version": "3.7.0"
  }
 },
 "nbformat": 4,
 "nbformat_minor": 2
}
