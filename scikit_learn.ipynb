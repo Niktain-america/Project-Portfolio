{
  "nbformat": 4,
  "nbformat_minor": 0,
  "metadata": {
    "colab": {
      "provenance": [],
      "authorship_tag": "ABX9TyOhykxKnFQuJAjwzQfHP9e0",
      "include_colab_link": true
    },
    "kernelspec": {
      "name": "python3",
      "display_name": "Python 3"
    },
    "language_info": {
      "name": "python"
    }
  },
  "cells": [
    {
      "cell_type": "markdown",
      "metadata": {
        "id": "view-in-github",
        "colab_type": "text"
      },
      "source": [
        "<a href=\"https://colab.research.google.com/github/Niktain-america/Project-Portfolio/blob/main/scikit_learn.ipynb\" target=\"_parent\"><img src=\"https://colab.research.google.com/assets/colab-badge.svg\" alt=\"Open In Colab\"/></a>"
      ]
    },
    {
      "cell_type": "code",
      "execution_count": 1,
      "metadata": {
        "colab": {
          "base_uri": "https://localhost:8080/"
        },
        "id": "0MGd1OhIJV_6",
        "outputId": "0a591eb8-e331-4f6e-901b-528150dcef86"
      },
      "outputs": [
        {
          "output_type": "stream",
          "name": "stdout",
          "text": [
            "Looking in indexes: https://pypi.org/simple, https://us-python.pkg.dev/colab-wheels/public/simple/\n",
            "Requirement already satisfied: scikit-learn in /usr/local/lib/python3.8/dist-packages (1.0.2)\n",
            "Requirement already satisfied: threadpoolctl>=2.0.0 in /usr/local/lib/python3.8/dist-packages (from scikit-learn) (3.1.0)\n",
            "Requirement already satisfied: joblib>=0.11 in /usr/local/lib/python3.8/dist-packages (from scikit-learn) (1.2.0)\n",
            "Requirement already satisfied: scipy>=1.1.0 in /usr/local/lib/python3.8/dist-packages (from scikit-learn) (1.7.3)\n",
            "Requirement already satisfied: numpy>=1.14.6 in /usr/local/lib/python3.8/dist-packages (from scikit-learn) (1.21.6)\n"
          ]
        }
      ],
      "source": [
        "pip install scikit-learn"
      ]
    },
    {
      "cell_type": "code",
      "source": [
        "from sklearn.datasets import load_wine\n",
        "\n",
        "X,y= load_wine(return_X_y=True)"
      ],
      "metadata": {
        "id": "dsIyky1nJh7n"
      },
      "execution_count": 2,
      "outputs": []
    },
    {
      "cell_type": "markdown",
      "source": [
        "#Estimators\n",
        "The Sciit-learn library provides a very large variety of pre built algorithms to perform both supervised and unsupervised machine learning called as **Estimators**."
      ],
      "metadata": {
        "id": "yTk6OsDTQsyC"
      }
    },
    {
      "cell_type": "code",
      "source": [
        "from sklearn.linear_model import LogisticRegression\n",
        "\n",
        "lr=LogisticRegression()"
      ],
      "metadata": {
        "id": "WeeWDlfbJyi2"
      },
      "execution_count": 3,
      "outputs": []
    },
    {
      "cell_type": "code",
      "source": [
        "from sklearn.model_selection import train_test_split\n",
        "\n",
        "X_train, X_test, y_train, y_test = train_test_split(X, y, random_state=0)\n",
        "\n",
        "model=lr.fit(X_train, y_train)"
      ],
      "metadata": {
        "colab": {
          "base_uri": "https://localhost:8080/"
        },
        "id": "gW8SO7obKAw5",
        "outputId": "76d191a3-c268-48c6-c256-b434e73fd0eb"
      },
      "execution_count": 4,
      "outputs": [
        {
          "output_type": "stream",
          "name": "stderr",
          "text": [
            "/usr/local/lib/python3.8/dist-packages/sklearn/linear_model/_logistic.py:814: ConvergenceWarning: lbfgs failed to converge (status=1):\n",
            "STOP: TOTAL NO. of ITERATIONS REACHED LIMIT.\n",
            "\n",
            "Increase the number of iterations (max_iter) or scale the data as shown in:\n",
            "    https://scikit-learn.org/stable/modules/preprocessing.html\n",
            "Please also refer to the documentation for alternative solver options:\n",
            "    https://scikit-learn.org/stable/modules/linear_model.html#logistic-regression\n",
            "  n_iter_i = _check_optimize_result(\n"
          ]
        }
      ]
    },
    {
      "cell_type": "code",
      "source": [
        "predictions= model.predict(X_test)"
      ],
      "metadata": {
        "id": "_c4YukKMKifn"
      },
      "execution_count": 5,
      "outputs": []
    },
    {
      "cell_type": "markdown",
      "source": [],
      "metadata": {
        "id": "rC17U1djQkX4"
      }
    },
    {
      "cell_type": "code",
      "source": [
        "from sklearn.ensemble import RandomForestClassifier\n",
        "\n",
        "rf=RandomForestClassifier()\n",
        "rf_model=rf.fit(X_train, y_train)\n",
        "rf_predictions= rf_model.predict(X_test)"
      ],
      "metadata": {
        "id": "EXuL21MTKqhP"
      },
      "execution_count": 6,
      "outputs": []
    },
    {
      "cell_type": "markdown",
      "source": [
        "#Preprocessing\n",
        "Scikit-learn has built-in methods to perform the preprocessing steps.\n",
        "SimpleImputer() fills in missing values using a method of your choice."
      ],
      "metadata": {
        "id": "7IQr2S2_QMVC"
      }
    },
    {
      "cell_type": "code",
      "source": [
        "from sklearn.impute import SimpleImputer\n",
        "\n",
        "imputer = SimpleImputer(strategy='mean')\n",
        "X_train_clean=imputer.fit(X_train)"
      ],
      "metadata": {
        "id": "ZM2-SUffLGkF"
      },
      "execution_count": 7,
      "outputs": []
    },
    {
      "cell_type": "markdown",
      "source": [
        "#Evaluation\n",
        "Once a model has been trained you need to measure how good the model is at predicting on new data.\n",
        "All estimators include a score() method."
      ],
      "metadata": {
        "id": "-Ni1uBNLPx_c"
      }
    },
    {
      "cell_type": "code",
      "source": [
        "from sklearn.metrics import classification_report\n",
        "\n",
        "print(classification_report(rf_predictions, y_test))"
      ],
      "metadata": {
        "colab": {
          "base_uri": "https://localhost:8080/"
        },
        "id": "JhZRkf9YLebT",
        "outputId": "a45669d6-6b22-40b8-f6a6-f03ea3351e90"
      },
      "execution_count": 9,
      "outputs": [
        {
          "output_type": "stream",
          "name": "stdout",
          "text": [
            "              precision    recall  f1-score   support\n",
            "\n",
            "           0       1.00      1.00      1.00        16\n",
            "           1       0.95      1.00      0.98        20\n",
            "           2       1.00      0.89      0.94         9\n",
            "\n",
            "    accuracy                           0.98        45\n",
            "   macro avg       0.98      0.96      0.97        45\n",
            "weighted avg       0.98      0.98      0.98        45\n",
            "\n"
          ]
        }
      ]
    },
    {
      "cell_type": "markdown",
      "source": [
        "#Model Optimisation\n",
        "All estimators in the scikit-learn library contain a range of parameters, for which there are multiple options.\n",
        "The value you choose for a particular algorithm will impact how well the final model performs.\n",
        "Different value for parameter will produce different results."
      ],
      "metadata": {
        "id": "D2giffkSPChc"
      }
    },
    {
      "cell_type": "code",
      "source": [
        "param_grid = {\n",
        "    'n_estimators': [200, 500],\n",
        "    'max_features':['auto', 'sqrt', 'log2'],\n",
        "    'max_depth': [4,5,6,7,8],\n",
        "    'criterion':['gini','entropy']\n",
        "}\n",
        "from sklearn.model_selection import GridSearchCV\n",
        "CV = GridSearchCV(rf, param_grid, n_jobs=1)\n",
        "\n",
        "CV.fit(X_train, y_train)\n",
        "print(CV.best_params_)\n",
        "print(CV.best_score_)"
      ],
      "metadata": {
        "colab": {
          "base_uri": "https://localhost:8080/"
        },
        "id": "KKuuzUR4L3-m",
        "outputId": "f9f96676-986f-4462-c75a-0ac270898a45"
      },
      "execution_count": 12,
      "outputs": [
        {
          "output_type": "stream",
          "name": "stdout",
          "text": [
            "{'criterion': 'gini', 'max_depth': 4, 'max_features': 'auto', 'n_estimators': 200}\n",
            "0.9774928774928775\n"
          ]
        }
      ]
    },
    {
      "cell_type": "markdown",
      "source": [
        "#Pipelines\n",
        "This Tool enables all preprocessing tasks to be chained together with the classifier step so that simply calling fit() or predict() on a single pipeline object performs all the steps in the workflow.\n"
      ],
      "metadata": {
        "id": "PPGS3S9dOSf2"
      }
    },
    {
      "cell_type": "code",
      "source": [
        "from sklearn.pipeline import Pipeline\n",
        "pipe= Pipeline([('imputer', SimpleImputer()), ('rf', RandomForestClassifier())])\n",
        "pipeline_model=pipe.fit(X_train, y_train)\n",
        "pipeline_model.score(X_test, y_test)"
      ],
      "metadata": {
        "colab": {
          "base_uri": "https://localhost:8080/"
        },
        "id": "Wbla36-UNGJW",
        "outputId": "be9c6fac-9c5c-470f-f4ca-038332f8a42f"
      },
      "execution_count": 13,
      "outputs": [
        {
          "output_type": "execute_result",
          "data": {
            "text/plain": [
              "1.0"
            ]
          },
          "metadata": {},
          "execution_count": 13
        }
      ]
    },
    {
      "cell_type": "code",
      "source": [],
      "metadata": {
        "id": "vLdgfZ1fN42S"
      },
      "execution_count": null,
      "outputs": []
    }
  ]
}